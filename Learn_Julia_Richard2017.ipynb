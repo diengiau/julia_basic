{
 "cells": [
  {
   "cell_type": "markdown",
   "metadata": {
    "deletable": true,
    "editable": true,
    "slideshow": {
     "slide_type": "-"
    }
   },
   "source": [
    "## 1 Basic"
   ]
  },
  {
   "cell_type": "markdown",
   "metadata": {},
   "source": [
    "### 1.1 Basic of variable and types"
   ]
  },
  {
   "cell_type": "code",
   "execution_count": 9,
   "metadata": {
    "collapsed": false
   },
   "outputs": [
    {
     "data": {
      "text/plain": [
       "5"
      ]
     },
     "execution_count": 9,
     "metadata": {},
     "output_type": "execute_result"
    }
   ],
   "source": [
    "x = 7\n",
    "typeof(x)\n",
    "y= \"Julia\"\n",
    "typeof(y); length(y)"
   ]
  },
  {
   "cell_type": "code",
   "execution_count": 11,
   "metadata": {
    "collapsed": false
   },
   "outputs": [
    {
     "name": "stdout",
     "output_type": "stream",
     "text": [
      "J\n",
      "u\n",
      "l\n",
      "i\n",
      "a\n"
     ]
    }
   ],
   "source": [
    "for i in y\n",
    "    println(i)\n",
    "end"
   ]
  },
  {
   "cell_type": "code",
   "execution_count": 115,
   "metadata": {
    "collapsed": false
   },
   "outputs": [
    {
     "data": {
      "text/plain": [
       "(3,4)"
      ]
     },
     "execution_count": 115,
     "metadata": {},
     "output_type": "execute_result"
    }
   ],
   "source": [
    "#Swap value in Julia is beautiful\n",
    "a = 1; b = 2; c = 3; d = 4;\n",
    "a,b = c,d #`a,b` is called a `tuple`\n",
    "a,b"
   ]
  },
  {
   "cell_type": "markdown",
   "metadata": {},
   "source": [
    "### 1.2 Arrays"
   ]
  },
  {
   "cell_type": "markdown",
   "metadata": {},
   "source": [
    "Create a array, which is `vector` in R:"
   ]
  },
  {
   "cell_type": "code",
   "execution_count": 13,
   "metadata": {
    "collapsed": false
   },
   "outputs": [
    {
     "name": "stdout",
     "output_type": "stream",
     "text": [
      "[2957176924526280196,7571571640628735025,-2844180528453568008,5330308906198717235,845427200]"
     ]
    }
   ],
   "source": [
    "x = Array(Int64, 5)\n",
    "show(x)"
   ]
  },
  {
   "cell_type": "code",
   "execution_count": 19,
   "metadata": {
    "collapsed": false
   },
   "outputs": [
    {
     "name": "stdout",
     "output_type": "stream",
     "text": [
      "UnitRange{Int64}[1:7]"
     ]
    },
    {
     "data": {
      "text/plain": [
       "5-element Array{Int64,1}:\n",
       " 1\n",
       " 2\n",
       " 3\n",
       " 4\n",
       " 5"
      ]
     },
     "execution_count": 19,
     "metadata": {},
     "output_type": "execute_result"
    }
   ],
   "source": [
    "x = [1:7] #in R: x = 1:7; x = c(1:7)\n",
    "show(x)\n",
    "x[1]\n",
    "\n",
    "y = [1,2,3,4,5]\n",
    "y"
   ]
  },
  {
   "cell_type": "code",
   "execution_count": 22,
   "metadata": {
    "collapsed": false
   },
   "outputs": [
    {
     "data": {
      "text/plain": [
       "5-element Array{Int64,1}:\n",
       " 1\n",
       " 2\n",
       " 9\n",
       " 4\n",
       " 5"
      ]
     },
     "execution_count": 22,
     "metadata": {},
     "output_type": "execute_result"
    }
   ],
   "source": [
    "y[3] = 9  #same index as R, from 1 rather than 0 as in Py\n",
    "y "
   ]
  },
  {
   "cell_type": "code",
   "execution_count": 26,
   "metadata": {
    "collapsed": false
   },
   "outputs": [
    {
     "data": {
      "text/plain": [
       "3-element Array{Int64,1}:\n",
       " 9\n",
       " 4\n",
       " 5"
      ]
     },
     "execution_count": 26,
     "metadata": {},
     "output_type": "execute_result"
    }
   ],
   "source": [
    "y[3:5]\n",
    "y[3:end] #understand `end`"
   ]
  },
  {
   "cell_type": "markdown",
   "metadata": {},
   "source": [
    "How to create `range` or `sequence` as in Py and R:"
   ]
  },
  {
   "cell_type": "code",
   "execution_count": 29,
   "metadata": {
    "collapsed": false
   },
   "outputs": [
    {
     "data": {
      "text/plain": [
       "4-element LinSpace{Float64}:\n",
       " 0.0,0.333333,0.666667,1.0"
      ]
     },
     "execution_count": 29,
     "metadata": {},
     "output_type": "execute_result"
    }
   ],
   "source": [
    "x = linspace(0, 10, 5)\n",
    "y = linspace(0,1,4) #cut 3 parts as in Fama-French"
   ]
  },
  {
   "cell_type": "markdown",
   "metadata": {},
   "source": [
    "Random number creator: `rand`"
   ]
  },
  {
   "cell_type": "code",
   "execution_count": 31,
   "metadata": {
    "collapsed": false
   },
   "outputs": [
    {
     "data": {
      "text/plain": [
       "5-element Array{Int32,1}:\n",
       " 1640023739\n",
       " -976130202\n",
       " -531091976\n",
       " 1513859382\n",
       " 1695463040"
      ]
     },
     "execution_count": 31,
     "metadata": {},
     "output_type": "execute_result"
    }
   ],
   "source": [
    "v1 = rand(Int32,5)"
   ]
  },
  {
   "cell_type": "markdown",
   "metadata": {},
   "source": [
    "Concatenate as in R for two vectors. In R, we run: c(x,y). In Julia, we use `append!` (remember the !). Tips: A function whose name ends in a ! changes its first argument"
   ]
  },
  {
   "cell_type": "code",
   "execution_count": 41,
   "metadata": {
    "collapsed": false
   },
   "outputs": [
    {
     "data": {
      "text/plain": [
       "5-element Array{Int64,1}:\n",
       "   1\n",
       "   7\n",
       " 100\n",
       " 102\n",
       "  70"
      ]
     },
     "execution_count": 41,
     "metadata": {},
     "output_type": "execute_result"
    }
   ],
   "source": [
    "x = [1,7]; y = [100, 102, 70]\n",
    "append!(x,y)"
   ]
  },
  {
   "cell_type": "code",
   "execution_count": 42,
   "metadata": {
    "collapsed": false
   },
   "outputs": [
    {
     "data": {
      "text/plain": [
       "5-element Array{Int64,1}:\n",
       "   1\n",
       "   7\n",
       " 100\n",
       " 102\n",
       "  70"
      ]
     },
     "execution_count": 42,
     "metadata": {},
     "output_type": "execute_result"
    }
   ],
   "source": [
    "x #it change x too"
   ]
  },
  {
   "cell_type": "code",
   "execution_count": 44,
   "metadata": {
    "collapsed": false
   },
   "outputs": [
    {
     "data": {
      "text/plain": [
       "5-element Array{Int64,1}:\n",
       "   1\n",
       "   7\n",
       " 100\n",
       " 102\n",
       "  70"
      ]
     },
     "execution_count": 44,
     "metadata": {},
     "output_type": "execute_result"
    }
   ],
   "source": [
    "sort(x) #not change x\n",
    "x"
   ]
  },
  {
   "cell_type": "code",
   "execution_count": 45,
   "metadata": {
    "collapsed": false
   },
   "outputs": [
    {
     "data": {
      "text/plain": [
       "5-element Array{Int64,1}:\n",
       "   1\n",
       "   7\n",
       "  70\n",
       " 100\n",
       " 102"
      ]
     },
     "execution_count": 45,
     "metadata": {},
     "output_type": "execute_result"
    }
   ],
   "source": [
    "sort!(x) #change x too\n",
    "x"
   ]
  },
  {
   "cell_type": "markdown",
   "metadata": {},
   "source": [
    "### 1.3 Vector and Matrix"
   ]
  },
  {
   "cell_type": "code",
   "execution_count": 112,
   "metadata": {
    "collapsed": false
   },
   "outputs": [
    {
     "data": {
      "text/plain": [
       "Array{Int64,1}"
      ]
     },
     "execution_count": 112,
     "metadata": {},
     "output_type": "execute_result"
    }
   ],
   "source": [
    "Vector{Int64}"
   ]
  },
  {
   "cell_type": "code",
   "execution_count": 117,
   "metadata": {
    "collapsed": false
   },
   "outputs": [
    {
     "data": {
      "text/plain": [
       "Array{Int64,2}"
      ]
     },
     "execution_count": 117,
     "metadata": {},
     "output_type": "execute_result"
    }
   ],
   "source": [
    "matrix = [1 2; 3 4]\n",
    "typeof(matrix)"
   ]
  },
  {
   "cell_type": "code",
   "execution_count": 114,
   "metadata": {
    "collapsed": false
   },
   "outputs": [
    {
     "data": {
      "text/plain": [
       "(2,2)"
      ]
     },
     "execution_count": 114,
     "metadata": {},
     "output_type": "execute_result"
    }
   ],
   "source": [
    "size(matrix)"
   ]
  },
  {
   "cell_type": "code",
   "execution_count": 121,
   "metadata": {
    "collapsed": false
   },
   "outputs": [
    {
     "data": {
      "text/plain": [
       "Array{Pair{Int64,Float64},1}"
      ]
     },
     "execution_count": 121,
     "metadata": {},
     "output_type": "execute_result"
    }
   ],
   "source": [
    "#Dictionaries\n",
    "d1 = [1 => 4.2, 2 => 5.3]; typeof(d1)"
   ]
  },
  {
   "cell_type": "code",
   "execution_count": 119,
   "metadata": {
    "collapsed": false
   },
   "outputs": [
    {
     "data": {
      "text/plain": [
       "2-element Array{Pair{Int64,Float64},1}:\n",
       " 1=>4.2\n",
       " 2=>5.3"
      ]
     },
     "execution_count": 119,
     "metadata": {},
     "output_type": "execute_result"
    }
   ],
   "source": [
    "d1"
   ]
  },
  {
   "cell_type": "code",
   "execution_count": 122,
   "metadata": {
    "collapsed": false
   },
   "outputs": [
    {
     "ename": "LoadError",
     "evalue": "MethodError: no method matching keys(::Array{Pair{Int64,Float64},1})\u001b[0m\nClosest candidates are:\n  keys(\u001b[1m\u001b[31m::JSON.AssociativeWrapper{T}\u001b[0m) at C:\\\\\\\\\\\\\\\\\\\\\\\\\\\\\\\\\\\\\\\\\\\\\\\\\\\\\\\\\\\\\\\\\\\\\\\\\\\\\\\\\\\\\\\\\\\\\\\\\\\\\\\\\\\\\\\\Users\\user\\AppData\\Local\\JuliaPro-0.5.1.1\\pkgs-0.5.1.1\\v0.5\\JSON\\src\\JSON.jl:29\n  keys(\u001b[1m\u001b[31m::Associative{K,V}\u001b[0m) at dict.jl:118\u001b[0m",
     "output_type": "error",
     "traceback": [
      "MethodError: no method matching keys(::Array{Pair{Int64,Float64},1})\u001b[0m\nClosest candidates are:\n  keys(\u001b[1m\u001b[31m::JSON.AssociativeWrapper{T}\u001b[0m) at C:\\\\\\\\\\\\\\\\\\\\\\\\\\\\\\\\\\\\\\\\\\\\\\\\\\\\\\\\\\\\\\\\\\\\\\\\\\\\\\\\\\\\\\\\\\\\\\\\\\\\\\\\\\\\\\\\Users\\user\\AppData\\Local\\JuliaPro-0.5.1.1\\pkgs-0.5.1.1\\v0.5\\JSON\\src\\JSON.jl:29\n  keys(\u001b[1m\u001b[31m::Associative{K,V}\u001b[0m) at dict.jl:118\u001b[0m",
      ""
     ]
    }
   ],
   "source": [
    "keys(d1)"
   ]
  },
  {
   "cell_type": "code",
   "execution_count": null,
   "metadata": {
    "collapsed": true
   },
   "outputs": [],
   "source": []
  },
  {
   "cell_type": "code",
   "execution_count": null,
   "metadata": {
    "collapsed": true
   },
   "outputs": [],
   "source": []
  },
  {
   "cell_type": "code",
   "execution_count": null,
   "metadata": {
    "collapsed": true
   },
   "outputs": [],
   "source": []
  },
  {
   "cell_type": "code",
   "execution_count": null,
   "metadata": {
    "collapsed": true
   },
   "outputs": [],
   "source": []
  },
  {
   "cell_type": "code",
   "execution_count": null,
   "metadata": {
    "collapsed": true
   },
   "outputs": [],
   "source": []
  },
  {
   "cell_type": "code",
   "execution_count": null,
   "metadata": {
    "collapsed": true
   },
   "outputs": [],
   "source": []
  },
  {
   "cell_type": "markdown",
   "metadata": {
    "deletable": true,
    "editable": true
   },
   "source": [
    "## 2 Conditional - Iterations"
   ]
  },
  {
   "cell_type": "markdown",
   "metadata": {},
   "source": [
    "__Conditional__"
   ]
  },
  {
   "cell_type": "code",
   "execution_count": 94,
   "metadata": {
    "collapsed": false
   },
   "outputs": [
    {
     "name": "stdout",
     "output_type": "stream",
     "text": [
      "var has value 7 and is smaller than 10.\n"
     ]
    },
    {
     "name": "stderr",
     "output_type": "stream",
     "text": [
      "WARNING: imported binding for var overwritten in module Main\n"
     ]
    }
   ],
   "source": [
    "var = 7\n",
    "if var > 10\n",
    "    println(\"var has value $var and is bigger than 10.\")\n",
    "elseif var < 10\n",
    "    println(\"var has value $var and is smaller than 10.\")\n",
    "else\n",
    "    println(\"var has value $var and is 10.\")\n",
    "end"
   ]
  },
  {
   "cell_type": "code",
   "execution_count": 97,
   "metadata": {
    "collapsed": false
   },
   "outputs": [
    {
     "data": {
      "text/plain": [
       "15"
      ]
     },
     "execution_count": 97,
     "metadata": {},
     "output_type": "execute_result"
    }
   ],
   "source": [
    "a = 10\n",
    "b = 15\n",
    "z = if a > b a  \n",
    "    else b\n",
    "    end"
   ]
  },
  {
   "cell_type": "code",
   "execution_count": null,
   "metadata": {
    "collapsed": true
   },
   "outputs": [],
   "source": []
  },
  {
   "cell_type": "markdown",
   "metadata": {},
   "source": [
    "__Loop__"
   ]
  },
  {
   "cell_type": "code",
   "execution_count": 8,
   "metadata": {
    "collapsed": false,
    "deletable": true,
    "editable": true
   },
   "outputs": [
    {
     "name": "stdout",
     "output_type": "stream",
     "text": [
      "1\n",
      "4\n",
      "9\n",
      "16\n",
      "25\n"
     ]
    }
   ],
   "source": [
    "for i in 1:5\n",
    "    println(i^2)\n",
    "end"
   ]
  },
  {
   "cell_type": "code",
   "execution_count": null,
   "metadata": {
    "collapsed": true,
    "deletable": true,
    "editable": true
   },
   "outputs": [],
   "source": [
    "#See how different between print() and println()\n",
    "for i in 1:5\n",
    "    print(i^2)\n",
    "end"
   ]
  },
  {
   "cell_type": "code",
   "execution_count": 9,
   "metadata": {
    "collapsed": false,
    "deletable": true,
    "editable": true
   },
   "outputs": [
    {
     "name": "stdout",
     "output_type": "stream",
     "text": [
      "1\n",
      "8\n",
      "27\n",
      "64\n",
      "125\n"
     ]
    }
   ],
   "source": [
    "#Loop over elements of array\n",
    "x = [1,2,3,4,5]\n",
    "for i in x\n",
    "    println(i^3)\n",
    "end"
   ]
  },
  {
   "cell_type": "code",
   "execution_count": 98,
   "metadata": {
    "collapsed": false
   },
   "outputs": [
    {
     "name": "stdout",
     "output_type": "stream",
     "text": [
      "10\n",
      "11\n",
      "12\n",
      "13\n",
      "14\n"
     ]
    }
   ],
   "source": [
    "a = 10; b = 15\n",
    "while a < b\n",
    "    # body: process(a)\n",
    "    println(a)\n",
    "    a += 1\n",
    "end"
   ]
  },
  {
   "cell_type": "code",
   "execution_count": 106,
   "metadata": {
    "collapsed": false
   },
   "outputs": [
    {
     "name": "stdout",
     "output_type": "stream",
     "text": [
      "11 12 13 14 15 16 17 18 19 20 21 22 23 24 25 26 27 28 29 30 31 32 33 34 35 36 37 38 39 40 41 42 43 44 45 46 47 48 49 "
     ]
    }
   ],
   "source": [
    "a = 10; b = 150\n",
    "while a < b\n",
    "    # process(a)\n",
    "    a += 1\n",
    "    if a >= 50\n",
    "        break #exit the loop if a>=50\n",
    "    end\n",
    "print(a, \" \")\n",
    "end"
   ]
  },
  {
   "cell_type": "code",
   "execution_count": 107,
   "metadata": {
    "collapsed": false
   },
   "outputs": [
    {
     "name": "stdout",
     "output_type": "stream",
     "text": [
      "1\n",
      "2\n",
      "7\n",
      "8\n",
      "9\n",
      "10\n"
     ]
    }
   ],
   "source": [
    "for n in 1:10\n",
    "    if 3 <= n <= 6\n",
    "        continue # skip current iteration\n",
    "    end\n",
    "    println(n)\n",
    "end"
   ]
  },
  {
   "cell_type": "markdown",
   "metadata": {},
   "source": [
    "__Dealing with ERRORs__"
   ]
  },
  {
   "cell_type": "markdown",
   "metadata": {},
   "source": [
    "_throw error_"
   ]
  },
  {
   "cell_type": "code",
   "execution_count": 109,
   "metadata": {
    "collapsed": false
   },
   "outputs": [
    {
     "ename": "LoadError",
     "evalue": "DomainError:",
     "output_type": "error",
     "traceback": [
      "DomainError:",
      ""
     ]
    }
   ],
   "source": [
    "code = 1; codes = [2,3,4]\n",
    "if code in codes\n",
    "    println(\"This is an acceptable code\")\n",
    "else\n",
    "    throw(DomainError())\n",
    "end"
   ]
  },
  {
   "cell_type": "markdown",
   "metadata": {},
   "source": [
    "Other methods:\n",
    "- warn(\"Something is not right here\") #in red color\n",
    "- info(\"Did you know this?\") #in blue color"
   ]
  },
  {
   "cell_type": "markdown",
   "metadata": {},
   "source": [
    "_try-catch-finally_"
   ]
  },
  {
   "cell_type": "code",
   "execution_count": 110,
   "metadata": {
    "collapsed": false
   },
   "outputs": [
    {
     "name": "stdout",
     "output_type": "stream",
     "text": [
      "ArgumentError\n",
      "ArgumentError: array must be non-empty"
     ]
    }
   ],
   "source": [
    "a = []\n",
    "try\n",
    "    pop!(a)\n",
    "catch ex\n",
    "    println(typeof(ex))\n",
    "    showerror(STDOUT, ex)\n",
    "end"
   ]
  },
  {
   "cell_type": "code",
   "execution_count": 111,
   "metadata": {
    "collapsed": false
   },
   "outputs": [
    {
     "ename": "LoadError",
     "evalue": "SystemError: opening file file1.txt: No such file or directory",
     "output_type": "error",
     "traceback": [
      "SystemError: opening file file1.txt: No such file or directory",
      "",
      " in #systemerror#51 at .\\error.jl:34 [inlined]",
      " in systemerror(::String, ::Bool) at .\\error.jl:34",
      " in open(::String, ::Bool, ::Bool, ::Bool, ::Bool, ::Bool) at .\\iostream.jl:89",
      " in open(::String) at .\\iostream.jl:98"
     ]
    }
   ],
   "source": [
    "f = open(\"file1.txt\") # returns an IOStream(<file file1.txt>)\n",
    "try\n",
    "    # operate on file f\n",
    "catch ex\n",
    "finally\n",
    "    close(f)\n",
    "end"
   ]
  },
  {
   "cell_type": "code",
   "execution_count": null,
   "metadata": {
    "collapsed": true
   },
   "outputs": [],
   "source": []
  },
  {
   "cell_type": "code",
   "execution_count": null,
   "metadata": {
    "collapsed": true
   },
   "outputs": [],
   "source": []
  },
  {
   "cell_type": "code",
   "execution_count": null,
   "metadata": {
    "collapsed": true
   },
   "outputs": [],
   "source": []
  },
  {
   "cell_type": "markdown",
   "metadata": {
    "deletable": true,
    "editable": true
   },
   "source": [
    "## 3 Functions"
   ]
  },
  {
   "cell_type": "markdown",
   "metadata": {},
   "source": [
    "The basic function is as follows:"
   ]
  },
  {
   "cell_type": "code",
   "execution_count": 51,
   "metadata": {
    "collapsed": false,
    "deletable": true,
    "editable": true
   },
   "outputs": [
    {
     "name": "stderr",
     "output_type": "stream",
     "text": [
      "WARNING: Method definition add_one"
     ]
    },
    {
     "data": {
      "text/plain": [
       "add_one (generic function with 1 method)"
      ]
     },
     "execution_count": 51,
     "metadata": {},
     "output_type": "execute_result"
    },
    {
     "name": "stderr",
     "output_type": "stream",
     "text": [
      "(Any) in module Main at In[49]:3 overwritten at In[51]:3.\n"
     ]
    }
   ],
   "source": [
    "#Method 1\n",
    "function add_one(x)\n",
    "    return x + 1\n",
    "end"
   ]
  },
  {
   "cell_type": "code",
   "execution_count": 52,
   "metadata": {
    "collapsed": false,
    "deletable": true,
    "editable": true
   },
   "outputs": [
    {
     "data": {
      "text/plain": [
       "10"
      ]
     },
     "execution_count": 52,
     "metadata": {},
     "output_type": "execute_result"
    }
   ],
   "source": [
    "add_one(9)"
   ]
  },
  {
   "cell_type": "code",
   "execution_count": 53,
   "metadata": {
    "collapsed": false,
    "deletable": true,
    "editable": true
   },
   "outputs": [
    {
     "data": {
      "text/plain": [
       "add_two (generic function with 1 method)"
      ]
     },
     "execution_count": 53,
     "metadata": {},
     "output_type": "execute_result"
    }
   ],
   "source": [
    "#Method 2: One-line function\n",
    "add_two(x) = x + 2"
   ]
  },
  {
   "cell_type": "code",
   "execution_count": 54,
   "metadata": {
    "collapsed": false,
    "deletable": true,
    "editable": true
   },
   "outputs": [
    {
     "data": {
      "text/plain": [
       "25"
      ]
     },
     "execution_count": 54,
     "metadata": {},
     "output_type": "execute_result"
    }
   ],
   "source": [
    "add_two(23)"
   ]
  },
  {
   "cell_type": "markdown",
   "metadata": {},
   "source": [
    "### 3.1 Arguments and Return value"
   ]
  },
  {
   "cell_type": "code",
   "execution_count": 59,
   "metadata": {
    "collapsed": false
   },
   "outputs": [
    {
     "data": {
      "text/plain": [
       "(405,5,0)"
      ]
     },
     "execution_count": 59,
     "metadata": {},
     "output_type": "execute_result"
    }
   ],
   "source": [
    "#return more than one value\n",
    "function mani(x,y)\n",
    "    x*y, div(x,y), x%y\n",
    "end\n",
    "\n",
    "mani(45,9)"
   ]
  },
  {
   "cell_type": "markdown",
   "metadata": {},
   "source": [
    "`Dot` arguments in Julia"
   ]
  },
  {
   "cell_type": "code",
   "execution_count": 68,
   "metadata": {
    "collapsed": false
   },
   "outputs": [
    {
     "name": "stdout",
     "output_type": "stream",
     "text": [
      "arguments : 1 2 (3,4,5)\n"
     ]
    },
    {
     "name": "stderr",
     "output_type": "stream",
     "text": [
      "WARNING: Method definition vara(Any, Any, Any...) in module Main at In[67]:2 overwritten at In[68]:2.\n"
     ]
    }
   ],
   "source": [
    "function vara(n, m, args...)\n",
    "    println(\"arguments : $n $m $args\")\n",
    "end\n",
    "vara(1,2,3,4,5)"
   ]
  },
  {
   "cell_type": "code",
   "execution_count": 74,
   "metadata": {
    "collapsed": false
   },
   "outputs": [
    {
     "name": "stderr",
     "output_type": "stream",
     "text": [
      "WARNING: Method definition insert_elem(Any"
     ]
    },
    {
     "data": {
      "text/plain": [
       "4-element Array{Int64,1}:\n",
       "   1\n",
       "   2\n",
       "   3\n",
       " -10"
      ]
     },
     "execution_count": 74,
     "metadata": {},
     "output_type": "execute_result"
    },
    {
     "name": "stderr",
     "output_type": "stream",
     "text": [
      ") in module Main at In[73]:2 overwritten at In[74]:2.\n"
     ]
    }
   ],
   "source": [
    "function insert_elem(arr)\n",
    "    push!(arr, -10)\n",
    "end\n",
    "\n",
    "x = [1,2,3]\n",
    "insert_elem(x)\n",
    "x #it changes the x too, omg, too crazy here, be careful with this one"
   ]
  },
  {
   "cell_type": "code",
   "execution_count": 75,
   "metadata": {
    "collapsed": false
   },
   "outputs": [
    {
     "data": {
      "text/plain": [
       "4-element Array{Int64,1}:\n",
       "   1\n",
       "   2\n",
       "   3\n",
       " -10"
      ]
     },
     "execution_count": 75,
     "metadata": {},
     "output_type": "execute_result"
    }
   ],
   "source": [
    "x"
   ]
  },
  {
   "cell_type": "markdown",
   "metadata": {},
   "source": [
    "#### 3.1.1 Default, Optional, and Keyword arguments"
   ]
  },
  {
   "cell_type": "markdown",
   "metadata": {},
   "source": [
    "__Default and optional__"
   ]
  },
  {
   "cell_type": "code",
   "execution_count": 77,
   "metadata": {
    "collapsed": false
   },
   "outputs": [
    {
     "name": "stderr",
     "output_type": "stream",
     "text": [
      "WARNING: Method definition f(Any)"
     ]
    },
    {
     "data": {
      "text/plain": [
       "6"
      ]
     },
     "execution_count": 77,
     "metadata": {},
     "output_type": "execute_result"
    },
    {
     "name": "stderr",
     "output_type": "stream",
     "text": [
      " in module Main at In[76]:1 overwritten at In[77]:2.\n",
      "WARNING: Method definition f(Any, Any) in module Main at In[76]:1 overwritten at In[77]:2.\n"
     ]
    }
   ],
   "source": [
    "#default argument as usually\n",
    "f(a , b = 5) = a + b\n",
    "f(1)"
   ]
  },
  {
   "cell_type": "markdown",
   "metadata": {},
   "source": [
    "Use a semi-colon after any optional arguments"
   ]
  },
  {
   "cell_type": "code",
   "execution_count": 83,
   "metadata": {
    "collapsed": false
   },
   "outputs": [
    {
     "name": "stderr",
     "output_type": "stream",
     "text": [
      "WARNING: Method definition k("
     ]
    },
    {
     "data": {
      "text/plain": [
       "9"
      ]
     },
     "execution_count": 83,
     "metadata": {},
     "output_type": "execute_result"
    },
    {
     "name": "stderr",
     "output_type": "stream",
     "text": [
      "Any) in module Main at In[82]:1 overwritten at In[83]:1.\n",
      "WARNING: Method definition #k(Array{Any, 1}, Main.#k, Any) in module Main overwritten.\n"
     ]
    }
   ],
   "source": [
    "k(x; a1 = 1, a2 = 2) = x * (a1 + a2)\n",
    "k(3)"
   ]
  },
  {
   "cell_type": "markdown",
   "metadata": {},
   "source": [
    "__Anonymous functions__"
   ]
  },
  {
   "cell_type": "code",
   "execution_count": 84,
   "metadata": {
    "collapsed": false
   },
   "outputs": [
    {
     "ename": "LoadError",
     "evalue": "syntax: invalid identifier name \"->\"",
     "output_type": "error",
     "traceback": [
      "syntax: invalid identifier name \"->\"",
      ""
     ]
    }
   ],
   "source": [
    "#way 1\n",
    "function (x) -> x + 2\n",
    "(x, y, z) -> 3x + 2y - z\n",
    "#way 2\n",
    "function (x)\n",
    "    x + 2\n",
    "end"
   ]
  },
  {
   "cell_type": "markdown",
   "metadata": {},
   "source": [
    "__Recursive function__"
   ]
  },
  {
   "cell_type": "code",
   "execution_count": 91,
   "metadata": {
    "collapsed": false
   },
   "outputs": [
    {
     "data": {
      "text/plain": [
       "11"
      ]
     },
     "execution_count": 91,
     "metadata": {},
     "output_type": "execute_result"
    }
   ],
   "source": [
    "function add2(x)\n",
    "    z = x * 2\n",
    "    function b(z)\n",
    "        z += 1\n",
    "    end\n",
    "    b(z)\n",
    "end\n",
    "\n",
    "d = 5\n",
    "add2(d)"
   ]
  },
  {
   "cell_type": "markdown",
   "metadata": {},
   "source": [
    "__Map, filter, and list__"
   ]
  },
  {
   "cell_type": "markdown",
   "metadata": {},
   "source": [
    "A map is a function of the form map(func, coll), where func is a (often anonymous) function that is successively applied to every element\n",
    "of the coll collection, so map returns a new collection."
   ]
  },
  {
   "cell_type": "code",
   "execution_count": 93,
   "metadata": {
    "collapsed": false
   },
   "outputs": [
    {
     "ename": "LoadError",
     "evalue": "syntax: extra token \"returns\" after end of expression",
     "output_type": "error",
     "traceback": [
      "syntax: extra token \"returns\" after end of expression",
      ""
     ]
    }
   ],
   "source": [
    "map(x -> x * 10, [1, 2, 3]) returns [10, 20, 30]\n",
    "cubes = map(x-> x^3, [1:5]) returns [1, 8, 27, 64, 125]\n",
    "map( x-> begin\n",
    "            if x == 0 return 0\n",
    "            elseif iseven(x) return 2\n",
    "            elseif isodd(x) return 1\n",
    "            end\n",
    "        end,[-3:3])"
   ]
  },
  {
   "cell_type": "markdown",
   "metadata": {},
   "source": [
    "A filter is a function of the form filter(func, coll), where func is a (often anonymous)\n",
    "Boolean function that is checked on each element of the collection coll. Filter returns a new\n",
    "collection with only the elements on which func is evaluated to true. "
   ]
  },
  {
   "cell_type": "code",
   "execution_count": null,
   "metadata": {
    "collapsed": true
   },
   "outputs": [],
   "source": [
    "filter( n -> iseven(n), [1:10])filter( n -> iseven(n), [1:10])"
   ]
  },
  {
   "cell_type": "code",
   "execution_count": null,
   "metadata": {
    "collapsed": true
   },
   "outputs": [],
   "source": []
  },
  {
   "cell_type": "code",
   "execution_count": null,
   "metadata": {
    "collapsed": true
   },
   "outputs": [],
   "source": []
  },
  {
   "cell_type": "markdown",
   "metadata": {
    "deletable": true,
    "editable": true
   },
   "source": [
    "## 4. String in Julia"
   ]
  },
  {
   "cell_type": "code",
   "execution_count": 14,
   "metadata": {
    "collapsed": false,
    "deletable": true,
    "editable": true
   },
   "outputs": [
    {
     "data": {
      "text/plain": [
       "\"The quick brown fox jumps over the lazy dog α,β,γ\""
      ]
     },
     "execution_count": 14,
     "metadata": {},
     "output_type": "execute_result"
    }
   ],
   "source": [
    "s1 = \"The quick brown fox jumps over the lazy dog α,β,γ\""
   ]
  },
  {
   "cell_type": "code",
   "execution_count": 17,
   "metadata": {
    "collapsed": false,
    "deletable": true,
    "editable": true
   },
   "outputs": [
    {
     "name": "stdout",
     "output_type": "stream",
     "text": [
      "The quick brown fox jumps over the lazy dog α,β,γ\n"
     ]
    }
   ],
   "source": [
    "println(s1)"
   ]
  },
  {
   "cell_type": "code",
   "execution_count": 18,
   "metadata": {
    "collapsed": false,
    "deletable": true,
    "editable": true
   },
   "outputs": [
    {
     "data": {
      "text/plain": [
       "\"THE QUICK BROWN FOX JUMPS OVER THE LAZY DOG Α,Β,Γ\""
      ]
     },
     "execution_count": 18,
     "metadata": {},
     "output_type": "execute_result"
    }
   ],
   "source": [
    "##Upper case and lower case\n",
    "uppercase(s1)"
   ]
  },
  {
   "cell_type": "code",
   "execution_count": 19,
   "metadata": {
    "collapsed": false,
    "deletable": true,
    "editable": true
   },
   "outputs": [
    {
     "data": {
      "text/plain": [
       "\"the quick brown fox jumps over the lazy dog α,β,γ\""
      ]
     },
     "execution_count": 19,
     "metadata": {},
     "output_type": "execute_result"
    }
   ],
   "source": [
    "lowercase(s1)"
   ]
  },
  {
   "cell_type": "code",
   "execution_count": 22,
   "metadata": {
    "collapsed": false,
    "deletable": true,
    "editable": true
   },
   "outputs": [
    {
     "data": {
      "text/plain": [
       "\"The quick\""
      ]
     },
     "execution_count": 22,
     "metadata": {},
     "output_type": "execute_result"
    }
   ],
   "source": [
    "#str_sub\n",
    "s1[1:9]"
   ]
  },
  {
   "cell_type": "code",
   "execution_count": 23,
   "metadata": {
    "collapsed": false,
    "deletable": true,
    "editable": true
   },
   "outputs": [
    {
     "name": "stdout",
     "output_type": "stream",
     "text": [
      "\"dog α,β,γ\"\n"
     ]
    }
   ],
   "source": [
    "# end is used for the end of the array or string\n",
    "show(s1[end-10:end]); println()"
   ]
  },
  {
   "cell_type": "code",
   "execution_count": 25,
   "metadata": {
    "collapsed": false,
    "deletable": true,
    "editable": true
   },
   "outputs": [
    {
     "data": {
      "text/plain": [
       "\"this and that\""
      ]
     },
     "execution_count": 25,
     "metadata": {},
     "output_type": "execute_result"
    }
   ],
   "source": [
    "#Concatenate strings using *\n",
    "\"this \" * \"and \" * \"that\""
   ]
  },
  {
   "cell_type": "code",
   "execution_count": 26,
   "metadata": {
    "collapsed": false,
    "deletable": true,
    "editable": true
   },
   "outputs": [
    {
     "data": {
      "text/plain": [
       "\"this and that\""
      ]
     },
     "execution_count": 26,
     "metadata": {},
     "output_type": "execute_result"
    }
   ],
   "source": [
    "string(\"this\", \" and\", \" that\")"
   ]
  },
  {
   "cell_type": "code",
   "execution_count": 27,
   "metadata": {
    "collapsed": false,
    "deletable": true,
    "editable": true
   },
   "outputs": [
    {
     "name": "stdout",
     "output_type": "stream",
     "text": [
      "11\n"
     ]
    }
   ],
   "source": [
    "# search returns the first index of a char\n",
    "i = search(s1, 'b')\n",
    "println(i)"
   ]
  },
  {
   "cell_type": "code",
   "execution_count": 28,
   "metadata": {
    "collapsed": false,
    "deletable": true,
    "editable": true
   },
   "outputs": [
    {
     "name": "stdout",
     "output_type": "stream",
     "text": [
      "\"The quick red fox jumps over the lazy dog α,β,γ\""
     ]
    }
   ],
   "source": [
    "# string replace is done thus:\n",
    "r = replace(s1, \"brown\", \"red\")\n",
    "show(r)"
   ]
  },
  {
   "cell_type": "markdown",
   "metadata": {
    "deletable": true,
    "editable": true
   },
   "source": [
    "There're many other tools in string with Julia. Good language."
   ]
  },
  {
   "cell_type": "markdown",
   "metadata": {},
   "source": [
    "## 5. Packages"
   ]
  },
  {
   "cell_type": "markdown",
   "metadata": {},
   "source": [
    "### 5.1 Install, Load packages"
   ]
  },
  {
   "cell_type": "code",
   "execution_count": 128,
   "metadata": {
    "collapsed": false
   },
   "outputs": [
    {
     "data": {
      "text/plain": [
       "Dict{String,VersionNumber} with 167 entries:\n",
       "  \"Libz\"              => v\"0.2.4\"\n",
       "  \"Interact\"          => v\"0.4.3\"\n",
       "  \"ForwardDiff\"       => v\"0.3.4\"\n",
       "  \"COFF\"              => v\"0.0.2\"\n",
       "  \"WinReg\"            => v\"0.2.0\"\n",
       "  \"AxisAlgorithms\"    => v\"0.1.6\"\n",
       "  \"Juno\"              => v\"0.2.7\"\n",
       "  \"OffsetArrays\"      => v\"0.2.14\"\n",
       "  \"DSP\"               => v\"0.1.1\"\n",
       "  \"LegacyStrings\"     => v\"0.2.0\"\n",
       "  \"Lazy\"              => v\"0.11.5\"\n",
       "  \"IndirectArrays\"    => v\"0.1.1\"\n",
       "  \"ImageFiltering\"    => v\"0.1.2\"\n",
       "  \"TextWrap\"          => v\"0.1.6\"\n",
       "  \"ZMQ\"               => v\"0.4.1\"\n",
       "  \"NullableArrays\"    => v\"0.1.0\"\n",
       "  \"AxisArrays\"        => v\"0.0.4\"\n",
       "  \"ColorVectorSpace\"  => v\"0.4.0\"\n",
       "  \"Compat\"            => v\"0.19.0\"\n",
       "  \"DataStructures\"    => v\"0.5.3\"\n",
       "  \"EzXML\"             => v\"0.4.3\"\n",
       "  \"CategoricalArrays\" => v\"0.1.2\"\n",
       "  \"Calculus\"          => v\"0.2.0\"\n",
       "  \"LNR\"               => v\"0.0.2\"\n",
       "  \"GZip\"              => v\"0.2.20\"\n",
       "  ⋮                   => ⋮"
      ]
     },
     "execution_count": 128,
     "metadata": {},
     "output_type": "execute_result"
    }
   ],
   "source": [
    "Pkg.installed() #which packages installed"
   ]
  },
  {
   "cell_type": "code",
   "execution_count": 129,
   "metadata": {
    "collapsed": false
   },
   "outputs": [
    {
     "name": "stderr",
     "output_type": "stream",
     "text": [
      "\u001b[1m\u001b[34mINFO: Updating METADATA...\n",
      "\u001b[0m\u001b[1m\u001b[34mINFO: Updating cache of CodeTools...\n",
      "\u001b[0m\u001b[1m\u001b[34mINFO: Updating cache of Combinatorics...\n",
      "\u001b[0m\u001b[1m\u001b[34mINFO: Updating cache of BufferedStreams...\n",
      "\u001b[0m\u001b[1m\u001b[34mINFO: Updating cache of Polynomials...\n",
      "\u001b[0m\u001b[1m\u001b[34mINFO: Updating cache of Hexagons...\n",
      "\u001b[0m\u001b[1m\u001b[34mINFO: Updating cache of Images...\n",
      "\u001b[0m\u001b[1m\u001b[34mINFO: Updating cache of GLM...\n",
      "\u001b[0m\u001b[1m\u001b[34mINFO: Updating cache of IntervalSets...\n",
      "\u001b[0m\u001b[1m\u001b[34mINFO: Updating cache of ImageFiltering...\n",
      "\u001b[0m\u001b[1m\u001b[34mINFO: Updating cache of EzXML...\n",
      "\u001b[0m\u001b[1m\u001b[34mINFO: Updating cache of Media...\n",
      "\u001b[0m\u001b[1m\u001b[34mINFO: Updating cache of ColorTypes...\n",
      "\u001b[0m\u001b[1m\u001b[34mINFO: Updating cache of Contour...\n",
      "\u001b[0m\u001b[1m\u001b[34mINFO: Updating cache of Lazy...\n",
      "\u001b[0m\u001b[1m\u001b[34mINFO: Updating cache of Requires...\n",
      "\u001b[0m\u001b[1m\u001b[34mINFO: Updating cache of RangeArrays...\n",
      "\u001b[0m\u001b[1m\u001b[34mINFO: Updating cache of LightXML...\n",
      "\u001b[0m\u001b[1m\u001b[34mINFO: Updating cache of CategoricalArrays...\n",
      "\u001b[0m\u001b[1m\u001b[34mINFO: Updating cache of Measures...\n",
      "\u001b[0m\u001b[1m\u001b[34mINFO: Updating cache of ImageTransformations...\n",
      "\u001b[0m\u001b[1m\u001b[34mINFO: Updating cache of Blosc...\n",
      "\u001b[0m\u001b[1m\u001b[34mINFO: Updating cache of MbedTLS...\n",
      "\u001b[0m\u001b[1m\u001b[34mINFO: Updating cache of Gadfly...\n",
      "\u001b[0m\u001b[1m\u001b[34mINFO: Updating cache of BinDeps...\n",
      "\u001b[0m\u001b[1m\u001b[34mINFO: Updating cache of JLD...\n",
      "\u001b[0m\u001b[1m\u001b[34mINFO: Updating cache of Blink...\n",
      "\u001b[0m\u001b[1m\u001b[34mINFO: Updating cache of Rotations...\n",
      "\u001b[0m\u001b[1m\u001b[34mINFO: Updating cache of ZMQ...\n",
      "\u001b[0m\u001b[1m\u001b[34mINFO: Updating cache of Clustering...\n",
      "\u001b[0m\u001b[1m\u001b[34mINFO: Updating cache of StatsBase...\n",
      "\u001b[0m\u001b[1m\u001b[34mINFO: Updating cache of IJulia...\n",
      "\u001b[0m\u001b[1m\u001b[34mINFO: Updating cache of Graphics...\n",
      "\u001b[0m\u001b[1m\u001b[34mINFO: Updating cache of MacroTools...\n",
      "\u001b[0m\u001b[1m\u001b[34mINFO: Updating cache of TextWrap...\n",
      "\u001b[0m\u001b[1m\u001b[34mINFO: Updating cache of LineSearches...\n",
      "\u001b[0m\u001b[1m\u001b[34mINFO: Updating cache of Roots...\n",
      "\u001b[0m\u001b[1m\u001b[34mINFO: Updating cache of WebSockets...\n",
      "\u001b[0m\u001b[1m\u001b[34mINFO: Updating cache of PolynomialFactors...\n",
      "\u001b[0m\u001b[1m\u001b[34mINFO: Updating cache of DataFrames...\n",
      "\u001b[0m\u001b[1m\u001b[34mINFO: Updating cache of Distributions...\n",
      "\u001b[0m\u001b[1m\u001b[34mINFO: Updating cache of ImageAxes...\n",
      "\u001b[0m\u001b[1m\u001b[34mINFO: Updating cache of Atom...\n",
      "\u001b[0m\u001b[1m\u001b[34mINFO: Updating cache of NaNMath...\n",
      "\u001b[0m\u001b[1m\u001b[34mINFO: Updating cache of Rmath...\n",
      "\u001b[0m\u001b[1m\u001b[34mINFO: Updating cache of DataArrays...\n",
      "\u001b[0m\u001b[1m\u001b[34mINFO: Updating cache of QuantEcon...\n",
      "\u001b[0m\u001b[1m\u001b[34mINFO: Updating cache of ForwardDiff...\n",
      "\u001b[0m\u001b[1m\u001b[34mINFO: Updating cache of SimpleTraits...\n",
      "\u001b[0m\u001b[1m\u001b[34mINFO: Updating cache of Conda...\n",
      "\u001b[0m\u001b[1m\u001b[34mINFO: Updating cache of MXNet...\n",
      "\u001b[0m\u001b[1m\u001b[34mINFO: Updating cache of Loess...\n",
      "\u001b[0m\u001b[1m\u001b[34mINFO: Updating cache of DataStreams...\n",
      "\u001b[0m\u001b[1m\u001b[34mINFO: Updating cache of LightGraphs...\n",
      "\u001b[0m\u001b[1m\u001b[34mINFO: Updating cache of AutoGrad...\n",
      "\u001b[0m\u001b[1m\u001b[34mINFO: Updating cache of DiffBase...\n",
      "\u001b[0m\u001b[1m\u001b[34mINFO: Updating cache of Compose...\n",
      "\u001b[0m\u001b[1m\u001b[34mINFO: Updating cache of Ratios...\n",
      "\u001b[0m\u001b[1m\u001b[34mINFO: Updating cache of NullableArrays...\n",
      "\u001b[0m\u001b[1m\u001b[34mINFO: Updating cache of ColorVectorSpace...\n",
      "\u001b[0m\u001b[1m\u001b[34mINFO: Updating cache of Knet...\n",
      "\u001b[0m\u001b[1m\u001b[34mINFO: Updating cache of FixedPointNumbers...\n",
      "\u001b[0m\u001b[1m\u001b[34mINFO: Updating cache of FileIO...\n",
      "\u001b[0m\u001b[1m\u001b[34mINFO: Updating cache of ImageCore...\n",
      "\u001b[0m\u001b[1m\u001b[34mINFO: Updating cache of ProtoBuf...\n",
      "\u001b[0m\u001b[1m\u001b[34mINFO: Updating cache of Juno...\n",
      "\u001b[0m\u001b[1m\u001b[34mINFO: Updating cache of DSP...\n",
      "\u001b[0m\u001b[1m\u001b[34mINFO: Updating cache of Compat...\n",
      "\u001b[0m\u001b[1m\u001b[34mINFO: Updating cache of SHA...\n",
      "\u001b[0m\u001b[1m\u001b[34mINFO: Updating cache of Iterators...\n",
      "\u001b[0m\u001b[1m\u001b[34mINFO: Updating cache of JSON...\n",
      "\u001b[0m\u001b[1m\u001b[34mINFO: Updating cache of DecisionTree...\n",
      "\u001b[0m\u001b[1m\u001b[34mINFO: Updating cache of BusinessDays...\n",
      "\u001b[0m\u001b[1m\u001b[34mINFO: Updating cache of StaticArrays...\n",
      "\u001b[0m\u001b[1m\u001b[34mINFO: Updating cache of Parameters...\n",
      "\u001b[0m\u001b[1m\u001b[34mINFO: Updating cache of HypothesisTests...\n",
      "\u001b[0m\u001b[1m\u001b[34mINFO: Updating cache of Interpolations...\n",
      "\u001b[0m\u001b[1m\u001b[34mINFO: Updating cache of JuMP...\n",
      "\u001b[0m\u001b[1m\u001b[34mINFO: Updating cache of CoordinateTransformations...\n",
      "\u001b[0m\u001b[1m\u001b[34mINFO: Updating cache of OffsetArrays...\n",
      "\u001b[0m\u001b[1m\u001b[34mINFO: Updating cache of GZip...\n",
      "\u001b[0m\u001b[1m\u001b[34mINFO: Updating cache of ODBC...\n",
      "\u001b[0m\u001b[1m\u001b[34mINFO: Updating cache of StatsFuns...\n",
      "\u001b[0m\u001b[1m\u001b[34mINFO: Updating cache of Formatting...\n",
      "\u001b[0m\u001b[1m\u001b[34mINFO: Updating cache of HDF5...\n",
      "\u001b[0m\u001b[1m\u001b[34mINFO: Updating cache of QuadGK...\n",
      "\u001b[0m\u001b[1m\u001b[34mINFO: Updating cache of ImageMetadata...\n",
      "\u001b[0m\u001b[1m\u001b[34mINFO: Updating cache of Interact...\n",
      "\u001b[0m\u001b[1m\u001b[34mINFO: Updating cache of Mustache...\n",
      "\u001b[0m\u001b[1m\u001b[34mINFO: Updating cache of NearestNeighbors...\n",
      "\u001b[0m\u001b[1m\u001b[34mINFO: Updating cache of LegacyStrings...\n",
      "\u001b[0m\u001b[1m\u001b[34mINFO: Updating cache of ArgParse...\n",
      "\u001b[0m\u001b[1m\u001b[34mINFO: Updating cache of Showoff...\n",
      "\u001b[0m\u001b[1m\u001b[34mINFO: Updating cache of ReverseDiffSparse...\n",
      "\u001b[0m\u001b[1m\u001b[34mINFO: Updating cache of HttpServer...\n",
      "\u001b[0m\u001b[1m\u001b[34mINFO: Updating cache of Optim...\n",
      "\u001b[0m\u001b[1m\u001b[34mINFO: Updating cache of JavaCall...\n",
      "\u001b[0m\u001b[1m\u001b[34mINFO: Updating cache of PyCall...\n",
      "\u001b[0m\u001b[1m\u001b[34mINFO: Updating cache of Calculus...\n",
      "\u001b[0m\u001b[1m\u001b[34mINFO: Updating cache of MathProgBase...\n",
      "\u001b[0m\u001b[1m\u001b[34mINFO: Updating cache of PDMats...\n",
      "\u001b[0m\u001b[1m\u001b[34mINFO: Updating cache of WinRPM...\n",
      "\u001b[0m\u001b[1m\u001b[34mINFO: Updating cache of RCall...\n",
      "\u001b[0m\u001b[1m\u001b[34mINFO: Updating cache of Reactive...\n",
      "\u001b[0m\u001b[1m\u001b[34mINFO: Updating cache of AxisArrays...\n",
      "\u001b[0m\u001b[1m\u001b[34mINFO: Updating cache of CSV...\n",
      "\u001b[0m\u001b[1m\u001b[34mINFO: Computing changes...\n",
      "\u001b[0m\u001b[1m\u001b[34mINFO: Upgrading BenchmarkTools: v0.0.7 => v0.0.8\n",
      "\u001b[0m\u001b[1m\u001b[34mINFO: Downgrading LightGraphs: v0.7.5 => v0.7.3\n",
      "\u001b[0m\u001b[1m\u001b[34mINFO: Building WinRPM\n",
      "\u001b[0m\u001b[1m\u001b[34mINFO: Downloading https://cache.julialang.org/http://download.opensuse.org/repositories/windows:/mingw:/win32/openSUSE_42.2/repodata/repomd.xml\n",
      "\u001b[0m\u001b[1m\u001b[31mWARNING: Unknown download failure, error code: 2148270086\u001b[0m\n",
      "\u001b[1m\u001b[31mWARNING: Retry 1/5 downloading: https://cache.julialang.org/http://download.opensuse.org/repositories/windows:/mingw:/win32/openSUSE_42.2/repodata/repomd.xml\u001b[0m\n",
      "\u001b[1m\u001b[31mWARNING: Unknown download failure, error code: 2148270086\u001b[0m\n",
      "\u001b[1m\u001b[31mWARNING: Retry 2/5 downloading: https://cache.julialang.org/http://download.opensuse.org/repositories/windows:/mingw:/win32/openSUSE_42.2/repodata/repomd.xml\u001b[0m\n",
      "\u001b[1m\u001b[31mWARNING: Unknown download failure, error code: 2148270086\u001b[0m\n",
      "\u001b[1m\u001b[31mWARNING: Retry 3/5 downloading: https://cache.julialang.org/http://download.opensuse.org/repositories/windows:/mingw:/win32/openSUSE_42.2/repodata/repomd.xml\u001b[0m\n",
      "\u001b[1m\u001b[31mWARNING: Unknown download failure, error code: 2148270086\u001b[0m\n",
      "\u001b[1m\u001b[31mWARNING: Retry 4/5 downloading: https://cache.julialang.org/http://download.opensuse.org/repositories/windows:/mingw:/win32/openSUSE_42.2/repodata/repomd.xml\u001b[0m\n",
      "\u001b[1m\u001b[31mWARNING: Unknown download failure, error code: 2148270086\u001b[0m\n",
      "\u001b[1m\u001b[31mWARNING: Retry 5/5 downloading: https://cache.julialang.org/http://download.opensuse.org/repositories/windows:/mingw:/win32/openSUSE_42.2/repodata/repomd.xml\u001b[0m\n",
      "\u001b[1m\u001b[31mWARNING: received error 0 while downloading https://cache.julialang.org/http://download.opensuse.org/repositories/windows:/mingw:/win32/openSUSE_42.2/repodata/repomd.xml\u001b[0m\n",
      "\u001b[1m\u001b[34mINFO: Downloading https://cache.julialang.org/http://download.opensuse.org/repositories/windows:/mingw:/win64/openSUSE_42.2/repodata/repomd.xml\n",
      "\u001b[0m\u001b[1m\u001b[31mWARNING: Unknown download failure, error code: 2148270086\u001b[0m\n",
      "\u001b[1m\u001b[31mWARNING: Retry 1/5 downloading: https://cache.julialang.org/http://download.opensuse.org/repositories/windows:/mingw:/win64/openSUSE_42.2/repodata/repomd.xml\u001b[0m\n",
      "\u001b[1m\u001b[31mWARNING: Unknown download failure, error code: 2148270086\u001b[0m\n",
      "\u001b[1m\u001b[31mWARNING: Retry 2/5 downloading: https://cache.julialang.org/http://download.opensuse.org/repositories/windows:/mingw:/win64/openSUSE_42.2/repodata/repomd.xml\u001b[0m\n",
      "\u001b[1m\u001b[31mWARNING: Unknown download failure, error code: 2148270086\u001b[0m\n",
      "\u001b[1m\u001b[31mWARNING: Retry 3/5 downloading: https://cache.julialang.org/http://download.opensuse.org/repositories/windows:/mingw:/win64/openSUSE_42.2/repodata/repomd.xml\u001b[0m\n",
      "\u001b[1m\u001b[31mWARNING: Unknown download failure, error code: 2148270086\u001b[0m\n",
      "\u001b[1m\u001b[31mWARNING: Retry 4/5 downloading: https://cache.julialang.org/http://download.opensuse.org/repositories/windows:/mingw:/win64/openSUSE_42.2/repodata/repomd.xml\u001b[0m\n",
      "\u001b[1m\u001b[31mWARNING: Unknown download failure, error code: 2148270086\u001b[0m\n",
      "\u001b[1m\u001b[31mWARNING: Retry 5/5 downloading: https://cache.julialang.org/http://download.opensuse.org/repositories/windows:/mingw:/win64/openSUSE_42.2/repodata/repomd.xml\u001b[0m\n",
      "\u001b[1m\u001b[31mWARNING: received error 0 while downloading https://cache.julialang.org/http://download.opensuse.org/repositories/windows:/mingw:/win64/openSUSE_42.2/repodata/repomd.xml\u001b[0m\n",
      "\u001b[1m\u001b[34mINFO: Building Blosc\n",
      "\u001b[0m\u001b[1m\u001b[34mINFO: Building HDF5\n",
      "\u001b[0m\u001b[1m\u001b[34mINFO: Updating WinRPM package list\n",
      "\u001b[0m\u001b[1m\u001b[34mINFO: Downloading https://cache.julialang.org/http://download.opensuse.org/repositories/windows:/mingw:/win32/openSUSE_42.2/repodata/repomd.xml\n",
      "\u001b[0m\u001b[1m\u001b[31mWARNING: Unknown download failure, error code: 2148270086\u001b[0m\n",
      "\u001b[1m\u001b[31mWARNING: Retry 1/5 downloading: https://cache.julialang.org/http://download.opensuse.org/repositories/windows:/mingw:/win32/openSUSE_42.2/repodata/repomd.xml\u001b[0m\n",
      "\u001b[1m\u001b[31mWARNING: Unknown download failure, error code: 2148270086\u001b[0m\n",
      "\u001b[1m\u001b[31mWARNING: Retry 2/5 downloading: https://cache.julialang.org/http://download.opensuse.org/repositories/windows:/mingw:/win32/openSUSE_42.2/repodata/repomd.xml\u001b[0m\n",
      "\u001b[1m\u001b[31mWARNING: Unknown download failure, error code: 2148270086\u001b[0m\n",
      "\u001b[1m\u001b[31mWARNING: Retry 3/5 downloading: https://cache.julialang.org/http://download.opensuse.org/repositories/windows:/mingw:/win32/openSUSE_42.2/repodata/repomd.xml\u001b[0m\n",
      "\u001b[1m\u001b[31mWARNING: Unknown download failure, error code: 2148270086\u001b[0m\n",
      "\u001b[1m\u001b[31mWARNING: Retry 4/5 downloading: https://cache.julialang.org/http://download.opensuse.org/repositories/windows:/mingw:/win32/openSUSE_42.2/repodata/repomd.xml\u001b[0m\n",
      "\u001b[1m\u001b[31mWARNING: Unknown download failure, error code: 2148270086\u001b[0m\n",
      "\u001b[1m\u001b[31mWARNING: Retry 5/5 downloading: https://cache.julialang.org/http://download.opensuse.org/repositories/windows:/mingw:/win32/openSUSE_42.2/repodata/repomd.xml\u001b[0m\n",
      "\u001b[1m\u001b[31mWARNING: received error 0 while downloading https://cache.julialang.org/http://download.opensuse.org/repositories/windows:/mingw:/win32/openSUSE_42.2/repodata/repomd.xml\u001b[0m\n",
      "\u001b[1m\u001b[34mINFO: Downloading https://cache.julialang.org/http://download.opensuse.org/repositories/windows:/mingw:/win64/openSUSE_42.2/repodata/repomd.xml\n",
      "\u001b[0m\u001b[1m\u001b[31mWARNING: Unknown download failure, error code: 2148270086\u001b[0m\n",
      "\u001b[1m\u001b[31mWARNING: Retry 1/5 downloading: https://cache.julialang.org/http://download.opensuse.org/repositories/windows:/mingw:/win64/openSUSE_42.2/repodata/repomd.xml\u001b[0m\n",
      "\u001b[1m\u001b[31mWARNING: Unknown download failure, error code: 2148270086\u001b[0m\n",
      "\u001b[1m\u001b[31mWARNING: Retry 2/5 downloading: https://cache.julialang.org/http://download.opensuse.org/repositories/windows:/mingw:/win64/openSUSE_42.2/repodata/repomd.xml\u001b[0m\n",
      "\u001b[1m\u001b[31mWARNING: Unknown download failure, error code: 2148270086\u001b[0m\n",
      "\u001b[1m\u001b[31mWARNING: Retry 3/5 downloading: https://cache.julialang.org/http://download.opensuse.org/repositories/windows:/mingw:/win64/openSUSE_42.2/repodata/repomd.xml\u001b[0m\n",
      "\u001b[1m\u001b[31mWARNING: Unknown download failure, error code: 2148270086\u001b[0m\n",
      "\u001b[1m\u001b[31mWARNING: Retry 4/5 downloading: https://cache.julialang.org/http://download.opensuse.org/repositories/windows:/mingw:/win64/openSUSE_42.2/repodata/repomd.xml\u001b[0m\n",
      "\u001b[1m\u001b[31mWARNING: Unknown download failure, error code: 2148270086\u001b[0m\n",
      "\u001b[1m\u001b[31mWARNING: Retry 5/5 downloading: https://cache.julialang.org/http://download.opensuse.org/repositories/windows:/mingw:/win64/openSUSE_42.2/repodata/repomd.xml\u001b[0m\n",
      "\u001b[1m\u001b[31mWARNING: received error 0 while downloading https://cache.julialang.org/http://download.opensuse.org/repositories/windows:/mingw:/win64/openSUSE_42.2/repodata/repomd.xml\u001b[0m\n",
      "\u001b[1m\u001b[31m================================[ ERROR: HDF5 ]=================================\u001b[0m\n",
      "\n",
      "\u001b[1m\u001b[31mLoadError: None of the selected providers can install dependency libhdf5.\n",
      "Use BinDeps.debug(package_name) to see available providers\n",
      "\n",
      "while loading C:\\Users\\user\\AppData\\Local\\JuliaPro-0.5.1.1\\pkgs-0.5.1.1\\v0.5\\HDF5\\deps\\build.jl, in expression starting on line 27\u001b[0m\n",
      "\n",
      "\u001b[1m\u001b[31m================================================================================\u001b[0m\n",
      "\u001b[1m\u001b[34mINFO: Building EzXML\n",
      "\u001b[0m\u001b[1m\u001b[31m================================[ ERROR: EzXML ]================================\u001b[0m\n",
      "\n",
      "\u001b[1m\u001b[31mLoadError: Package candidate for libxml2-2 not found\n",
      "while loading C:\\Users\\user\\AppData\\Local\\JuliaPro-0.5.1.1\\pkgs-0.5.1.1\\v0.5\\EzXML\\deps\\build.jl, in expression starting on line 3\u001b[0m\n",
      "\n",
      "\u001b[1m\u001b[31m================================================================================\u001b[0m\n",
      "\u001b[1m\u001b[34mINFO: Building Rmath\n",
      "\u001b[0m\n",
      "\u001b[1m\u001b[31m================================[ BUILD ERRORS ]================================\u001b[0m\n",
      "\n",
      "\u001b[1m\u001b[31mWARNING: HDF5 and EzXML had build errors.\n",
      "\n",
      " - packages with build errors remain installed in C:\\Users\\user\\AppData\\Local\\JuliaPro-0.5.1.1\\pkgs-0.5.1.1\\v0.5\n",
      " - build the package(s) and all dependencies with `Pkg.build(\"HDF5\", \"EzXML\")`\n",
      " - build a single package by running its `deps/build.jl` script\u001b[0m\n",
      "\n",
      "\u001b[1m\u001b[31m================================================================================\u001b[0m\n"
     ]
    }
   ],
   "source": [
    "Pkg.update()"
   ]
  },
  {
   "cell_type": "code",
   "execution_count": 130,
   "metadata": {
    "collapsed": false
   },
   "outputs": [
    {
     "name": "stderr",
     "output_type": "stream",
     "text": [
      "\u001b[1m\u001b[34mINFO: Nothing to be done\n",
      "\u001b[0m"
     ]
    },
    {
     "ename": "LoadError",
     "evalue": "unknown package RDataSets\n in macro expansion at .\\pkg\\entry.jl:53 [inlined]\n in (::Base.Pkg.Entry.##2#5{String,Base.Pkg.Types.VersionSet})() at .\\task.jl:360",
     "output_type": "error",
     "traceback": [
      "unknown package RDataSets\n in macro expansion at .\\pkg\\entry.jl:53 [inlined]\n in (::Base.Pkg.Entry.##2#5{String,Base.Pkg.Types.VersionSet})() at .\\task.jl:360",
      "",
      " in sync_end() at .\\task.jl:311",
      " in macro expansion at .\\task.jl:327 [inlined]",
      " in add(::String, ::Base.Pkg.Types.VersionSet) at .\\pkg\\entry.jl:51",
      " in (::Base.Pkg.Dir.##2#3{Array{Any,1},Base.Pkg.Entry.#add,Tuple{String}})() at .\\pkg\\dir.jl:31",
      " in cd(::Base.Pkg.Dir.##2#3{Array{Any,1},Base.Pkg.Entry.#add,Tuple{String}}, ::String) at .\\file.jl:48",
      " in #cd#1(::Array{Any,1}, ::Function, ::Function, ::String, ::Vararg{Any,N}) at .\\pkg\\dir.jl:31",
      " in add(::String) at .\\pkg\\pkg.jl:100"
     ]
    }
   ],
   "source": [
    "Pkg.add(\"DataFrames\") #Install new packages\n",
    "Pkg.add(\"RDataSets\")"
   ]
  },
  {
   "cell_type": "code",
   "execution_count": 156,
   "metadata": {
    "collapsed": false
   },
   "outputs": [
    {
     "name": "stderr",
     "output_type": "stream",
     "text": [
      "\u001b[1m\u001b[34mINFO: Cloning cache of RData from https://github.com/JuliaStats/RData.jl.git\n",
      "\u001b[0m\u001b[1m\u001b[34mINFO: Cloning cache of RDatasets from https://github.com/johnmyleswhite/RDatasets.jl.git\n",
      "\u001b[0m\u001b[1m\u001b[34mINFO: Downgrading LightGraphs: v0.7.5 => v0.7.3\n",
      "\u001b[0m\u001b[1m\u001b[34mINFO: Installing RData v0.1.0\n",
      "\u001b[0m\u001b[1m\u001b[34mINFO: Installing RDatasets v0.2.0\n",
      "\u001b[0m\u001b[1m\u001b[34mINFO: Building WinRPM\n",
      "\u001b[0m\u001b[1m\u001b[34mINFO: Downloading https://cache.julialang.org/http://download.opensuse.org/repositories/windows:/mingw:/win32/openSUSE_42.2/repodata/repomd.xml\n",
      "\u001b[0m\u001b[1m\u001b[31mWARNING: Unknown download failure, error code: 2148270086\u001b[0m\n",
      "\u001b[1m\u001b[31mWARNING: Retry 1/5 downloading: https://cache.julialang.org/http://download.opensuse.org/repositories/windows:/mingw:/win32/openSUSE_42.2/repodata/repomd.xml\u001b[0m\n",
      "\u001b[1m\u001b[31mWARNING: Unknown download failure, error code: 2148270086\u001b[0m\n",
      "\u001b[1m\u001b[31mWARNING: Retry 2/5 downloading: https://cache.julialang.org/http://download.opensuse.org/repositories/windows:/mingw:/win32/openSUSE_42.2/repodata/repomd.xml\u001b[0m\n",
      "\u001b[1m\u001b[31mWARNING: Unknown download failure, error code: 2148270086\u001b[0m\n",
      "\u001b[1m\u001b[31mWARNING: Retry 3/5 downloading: https://cache.julialang.org/http://download.opensuse.org/repositories/windows:/mingw:/win32/openSUSE_42.2/repodata/repomd.xml\u001b[0m\n",
      "\u001b[1m\u001b[31mWARNING: Unknown download failure, error code: 2148270086\u001b[0m\n",
      "\u001b[1m\u001b[31mWARNING: Retry 4/5 downloading: https://cache.julialang.org/http://download.opensuse.org/repositories/windows:/mingw:/win32/openSUSE_42.2/repodata/repomd.xml\u001b[0m\n",
      "\u001b[1m\u001b[31mWARNING: Unknown download failure, error code: 2148270086\u001b[0m\n",
      "\u001b[1m\u001b[31mWARNING: Retry 5/5 downloading: https://cache.julialang.org/http://download.opensuse.org/repositories/windows:/mingw:/win32/openSUSE_42.2/repodata/repomd.xml\u001b[0m\n",
      "\u001b[1m\u001b[31mWARNING: received error 0 while downloading https://cache.julialang.org/http://download.opensuse.org/repositories/windows:/mingw:/win32/openSUSE_42.2/repodata/repomd.xml\u001b[0m\n",
      "\u001b[1m\u001b[34mINFO: Downloading https://cache.julialang.org/http://download.opensuse.org/repositories/windows:/mingw:/win64/openSUSE_42.2/repodata/repomd.xml\n",
      "\u001b[0m\u001b[1m\u001b[31mWARNING: Unknown download failure, error code: 2148270086\u001b[0m\n",
      "\u001b[1m\u001b[31mWARNING: Retry 1/5 downloading: https://cache.julialang.org/http://download.opensuse.org/repositories/windows:/mingw:/win64/openSUSE_42.2/repodata/repomd.xml\u001b[0m\n",
      "\u001b[1m\u001b[31mWARNING: Unknown download failure, error code: 2148270086\u001b[0m\n",
      "\u001b[1m\u001b[31mWARNING: Retry 2/5 downloading: https://cache.julialang.org/http://download.opensuse.org/repositories/windows:/mingw:/win64/openSUSE_42.2/repodata/repomd.xml\u001b[0m\n",
      "\u001b[1m\u001b[31mWARNING: Unknown download failure, error code: 2148270086\u001b[0m\n",
      "\u001b[1m\u001b[31mWARNING: Retry 3/5 downloading: https://cache.julialang.org/http://download.opensuse.org/repositories/windows:/mingw:/win64/openSUSE_42.2/repodata/repomd.xml\u001b[0m\n",
      "\u001b[1m\u001b[31mWARNING: Unknown download failure, error code: 2148270086\u001b[0m\n",
      "\u001b[1m\u001b[31mWARNING: Retry 4/5 downloading: https://cache.julialang.org/http://download.opensuse.org/repositories/windows:/mingw:/win64/openSUSE_42.2/repodata/repomd.xml\u001b[0m\n",
      "\u001b[1m\u001b[31mWARNING: Unknown download failure, error code: 2148270086\u001b[0m\n",
      "\u001b[1m\u001b[31mWARNING: Retry 5/5 downloading: https://cache.julialang.org/http://download.opensuse.org/repositories/windows:/mingw:/win64/openSUSE_42.2/repodata/repomd.xml\u001b[0m\n",
      "\u001b[1m\u001b[31mWARNING: received error 0 while downloading https://cache.julialang.org/http://download.opensuse.org/repositories/windows:/mingw:/win64/openSUSE_42.2/repodata/repomd.xml\u001b[0m\n",
      "\u001b[1m\u001b[34mINFO: Building EzXML\n",
      "\u001b[0m\u001b[1m\u001b[31m================================[ ERROR: EzXML ]================================\u001b[0m\n",
      "\n",
      "\u001b[1m\u001b[31mLoadError: Package candidate for libxml2-2 not found\n",
      "while loading C:\\Users\\user\\AppData\\Local\\JuliaPro-0.5.1.1\\pkgs-0.5.1.1\\v0.5\\EzXML\\deps\\build.jl, in expression starting on line 3\u001b[0m\n",
      "\n",
      "\u001b[1m\u001b[31m================================================================================\u001b[0m\n",
      "\u001b[1m\u001b[34mINFO: Building Rmath\n",
      "\u001b[0m\u001b[1m\u001b[34mINFO: Building Blosc\n",
      "\u001b[0m\u001b[1m\u001b[34mINFO: Building HDF5\n",
      "\u001b[0m\u001b[1m\u001b[34mINFO: Updating WinRPM package list\n",
      "\u001b[0m\u001b[1m\u001b[34mINFO: Downloading https://cache.julialang.org/http://download.opensuse.org/repositories/windows:/mingw:/win32/openSUSE_42.2/repodata/repomd.xml\n",
      "\u001b[0m\u001b[1m\u001b[31mWARNING: Unknown download failure, error code: 2148270086\u001b[0m\n",
      "\u001b[1m\u001b[31mWARNING: Retry 1/5 downloading: https://cache.julialang.org/http://download.opensuse.org/repositories/windows:/mingw:/win32/openSUSE_42.2/repodata/repomd.xml\u001b[0m\n",
      "\u001b[1m\u001b[31mWARNING: Unknown download failure, error code: 2148270086\u001b[0m\n",
      "\u001b[1m\u001b[31mWARNING: Retry 2/5 downloading: https://cache.julialang.org/http://download.opensuse.org/repositories/windows:/mingw:/win32/openSUSE_42.2/repodata/repomd.xml\u001b[0m\n",
      "\u001b[1m\u001b[31mWARNING: Unknown download failure, error code: 2148270086\u001b[0m\n",
      "\u001b[1m\u001b[31mWARNING: Retry 3/5 downloading: https://cache.julialang.org/http://download.opensuse.org/repositories/windows:/mingw:/win32/openSUSE_42.2/repodata/repomd.xml\u001b[0m\n",
      "\u001b[1m\u001b[31mWARNING: Unknown download failure, error code: 2148270086\u001b[0m\n",
      "\u001b[1m\u001b[31mWARNING: Retry 4/5 downloading: https://cache.julialang.org/http://download.opensuse.org/repositories/windows:/mingw:/win32/openSUSE_42.2/repodata/repomd.xml\u001b[0m\n",
      "\u001b[1m\u001b[31mWARNING: Unknown download failure, error code: 2148270086\u001b[0m\n",
      "\u001b[1m\u001b[31mWARNING: Retry 5/5 downloading: https://cache.julialang.org/http://download.opensuse.org/repositories/windows:/mingw:/win32/openSUSE_42.2/repodata/repomd.xml\u001b[0m\n",
      "\u001b[1m\u001b[31mWARNING: received error 0 while downloading https://cache.julialang.org/http://download.opensuse.org/repositories/windows:/mingw:/win32/openSUSE_42.2/repodata/repomd.xml\u001b[0m\n",
      "\u001b[1m\u001b[34mINFO: Downloading https://cache.julialang.org/http://download.opensuse.org/repositories/windows:/mingw:/win64/openSUSE_42.2/repodata/repomd.xml\n",
      "\u001b[0m\u001b[1m\u001b[31mWARNING: Unknown download failure, error code: 2148270086\u001b[0m\n",
      "\u001b[1m\u001b[31mWARNING: Retry 1/5 downloading: https://cache.julialang.org/http://download.opensuse.org/repositories/windows:/mingw:/win64/openSUSE_42.2/repodata/repomd.xml\u001b[0m\n",
      "\u001b[1m\u001b[31mWARNING: Unknown download failure, error code: 2148270086\u001b[0m\n",
      "\u001b[1m\u001b[31mWARNING: Retry 2/5 downloading: https://cache.julialang.org/http://download.opensuse.org/repositories/windows:/mingw:/win64/openSUSE_42.2/repodata/repomd.xml\u001b[0m\n",
      "\u001b[1m\u001b[31mWARNING: Unknown download failure, error code: 2148270086\u001b[0m\n",
      "\u001b[1m\u001b[31mWARNING: Retry 3/5 downloading: https://cache.julialang.org/http://download.opensuse.org/repositories/windows:/mingw:/win64/openSUSE_42.2/repodata/repomd.xml\u001b[0m\n",
      "\u001b[1m\u001b[31mWARNING: Unknown download failure, error code: 2148270086\u001b[0m\n",
      "\u001b[1m\u001b[31mWARNING: Retry 4/5 downloading: https://cache.julialang.org/http://download.opensuse.org/repositories/windows:/mingw:/win64/openSUSE_42.2/repodata/repomd.xml\u001b[0m\n",
      "\u001b[1m\u001b[31mWARNING: Unknown download failure, error code: 2148270086\u001b[0m\n",
      "\u001b[1m\u001b[31mWARNING: Retry 5/5 downloading: https://cache.julialang.org/http://download.opensuse.org/repositories/windows:/mingw:/win64/openSUSE_42.2/repodata/repomd.xml\u001b[0m\n",
      "\u001b[1m\u001b[31mWARNING: received error 0 while downloading https://cache.julialang.org/http://download.opensuse.org/repositories/windows:/mingw:/win64/openSUSE_42.2/repodata/repomd.xml\u001b[0m\n",
      "\u001b[1m\u001b[31m================================[ ERROR: HDF5 ]=================================\u001b[0m\n",
      "\n",
      "\u001b[1m\u001b[31mLoadError: None of the selected providers can install dependency libhdf5.\n",
      "Use BinDeps.debug(package_name) to see available providers\n",
      "\n",
      "while loading C:\\Users\\user\\AppData\\Local\\JuliaPro-0.5.1.1\\pkgs-0.5.1.1\\v0.5\\HDF5\\deps\\build.jl, in expression starting on line 27\u001b[0m\n",
      "\n",
      "\u001b[1m\u001b[31m================================================================================\u001b[0m\n",
      "\n",
      "\u001b[1m\u001b[31m================================[ BUILD ERRORS ]================================\u001b[0m\n",
      "\n",
      "\u001b[1m\u001b[31mWARNING: HDF5 and EzXML had build errors.\n",
      "\n",
      " - packages with build errors remain installed in C:\\Users\\user\\AppData\\Local\\JuliaPro-0.5.1.1\\pkgs-0.5.1.1\\v0.5\n",
      " - build the package(s) and all dependencies with `Pkg.build(\"HDF5\", \"EzXML\")`\n",
      " - build a single package by running its `deps/build.jl` script\u001b[0m\n",
      "\n",
      "\u001b[1m\u001b[31m================================================================================\u001b[0m\n",
      "\u001b[1m\u001b[34mINFO: Package database updated\n",
      "\u001b[0m"
     ]
    }
   ],
   "source": [
    "Pkg.add(\"RDatasets\")"
   ]
  },
  {
   "cell_type": "code",
   "execution_count": null,
   "metadata": {
    "collapsed": true
   },
   "outputs": [],
   "source": [
    "Pkg.rm(\"Benchmark\")\n"
   ]
  },
  {
   "cell_type": "code",
   "execution_count": 157,
   "metadata": {
    "collapsed": true
   },
   "outputs": [],
   "source": [
    "using DataFrames, DataArrays, RDatasets"
   ]
  },
  {
   "cell_type": "markdown",
   "metadata": {},
   "source": [
    "### 5.2 Building package"
   ]
  },
  {
   "cell_type": "code",
   "execution_count": null,
   "metadata": {
    "collapsed": true
   },
   "outputs": [],
   "source": []
  },
  {
   "cell_type": "code",
   "execution_count": null,
   "metadata": {
    "collapsed": true
   },
   "outputs": [],
   "source": []
  },
  {
   "cell_type": "markdown",
   "metadata": {
    "deletable": true,
    "editable": true
   },
   "source": [
    "## 6. Reading and Save Data\n"
   ]
  },
  {
   "cell_type": "code",
   "execution_count": 135,
   "metadata": {
    "collapsed": false
   },
   "outputs": [
    {
     "data": {
      "text/plain": [
       "\"C:\\\\Users\\\\user\\\\Google 雲端硬碟\\\\My CODEs\\\\Julia\""
      ]
     },
     "execution_count": 135,
     "metadata": {},
     "output_type": "execute_result"
    }
   ],
   "source": [
    "pwd()"
   ]
  },
  {
   "cell_type": "code",
   "execution_count": 142,
   "metadata": {
    "collapsed": false,
    "deletable": true,
    "editable": true
   },
   "outputs": [
    {
     "data": {
      "text/html": [
       "<table class=\"data-frame\"><thead><tr><th></th><th>make</th><th>price</th><th>mpg</th><th>rep78</th><th>headroom</th><th>trunk</th><th>weight</th><th>length</th><th>turn</th><th>displacement</th><th>gear_ratio</th><th>foreign</th></tr></thead><tbody><tr><th>1</th><td>VW Scirocco</td><td>6850</td><td>25</td><td>4</td><td>2.0</td><td>16</td><td>1990</td><td>156</td><td>36</td><td>97</td><td>3.78</td><td>Foreign</td></tr><tr><th>2</th><td>Volvo 260</td><td>11995</td><td>17</td><td>5</td><td>2.5</td><td>14</td><td>3170</td><td>193</td><td>37</td><td>163</td><td>2.98</td><td>Foreign</td></tr></tbody></table>"
      ],
      "text/plain": [
       "2×12 DataFrames.DataFrame\n",
       "│ Row │ make          │ price │ mpg │ rep78 │ headroom │ trunk │ weight │\n",
       "├─────┼───────────────┼───────┼─────┼───────┼──────────┼───────┼────────┤\n",
       "│ 1   │ \"VW Scirocco\" │ 6850  │ 25  │ 4     │ 2.0      │ 16    │ 1990   │\n",
       "│ 2   │ \"Volvo 260\"   │ 11995 │ 17  │ 5     │ 2.5      │ 14    │ 3170   │\n",
       "\n",
       "│ Row │ length │ turn │ displacement │ gear_ratio │ foreign   │\n",
       "├─────┼────────┼──────┼──────────────┼────────────┼───────────┤\n",
       "│ 1   │ 156    │ 36   │ 97           │ 3.78       │ \"Foreign\" │\n",
       "│ 2   │ 193    │ 37   │ 163          │ 2.98       │ \"Foreign\" │"
      ]
     },
     "execution_count": 142,
     "metadata": {},
     "output_type": "execute_result"
    }
   ],
   "source": [
    "#load data from csv\n",
    "#using DataFrames, DataArrays, RDataSets #Load two packages at the same time!!!\n",
    "\n",
    "car = readtable(\"car.csv\")\n",
    "size(car)\n",
    "nrow(car)\n",
    "ncol(car)\n",
    "head(car)\n",
    "tail(car,2)"
   ]
  },
  {
   "cell_type": "code",
   "execution_count": 141,
   "metadata": {
    "collapsed": false
   },
   "outputs": [
    {
     "data": {
      "text/html": [
       "<table class=\"data-frame\"><thead><tr><th></th><th>make</th><th>price</th><th>mpg</th><th>rep78</th><th>headroom</th><th>trunk</th><th>weight</th><th>length</th><th>turn</th><th>displacement</th><th>gear_ratio</th><th>foreign</th></tr></thead><tbody><tr><th>1</th><td>VW Scirocco</td><td>6850</td><td>25</td><td>4</td><td>2.0</td><td>16</td><td>1990</td><td>156</td><td>36</td><td>97</td><td>3.78</td><td>Foreign</td></tr><tr><th>2</th><td>Volvo 260</td><td>11995</td><td>17</td><td>5</td><td>2.5</td><td>14</td><td>3170</td><td>193</td><td>37</td><td>163</td><td>2.98</td><td>Foreign</td></tr></tbody></table>"
      ],
      "text/plain": [
       "2×12 DataFrames.DataFrame\n",
       "│ Row │ make          │ price │ mpg │ rep78 │ headroom │ trunk │ weight │\n",
       "├─────┼───────────────┼───────┼─────┼───────┼──────────┼───────┼────────┤\n",
       "│ 1   │ \"VW Scirocco\" │ 6850  │ 25  │ 4     │ 2.0      │ 16    │ 1990   │\n",
       "│ 2   │ \"Volvo 260\"   │ 11995 │ 17  │ 5     │ 2.5      │ 14    │ 3170   │\n",
       "\n",
       "│ Row │ length │ turn │ displacement │ gear_ratio │ foreign   │\n",
       "├─────┼────────┼──────┼──────────────┼────────────┼───────────┤\n",
       "│ 1   │ 156    │ 36   │ 97           │ 3.78       │ \"Foreign\" │\n",
       "│ 2   │ 193    │ 37   │ 163          │ 2.98       │ \"Foreign\" │"
      ]
     },
     "execution_count": 141,
     "metadata": {},
     "output_type": "execute_result"
    }
   ],
   "source": []
  },
  {
   "cell_type": "code",
   "execution_count": null,
   "metadata": {
    "collapsed": true
   },
   "outputs": [],
   "source": []
  },
  {
   "cell_type": "code",
   "execution_count": null,
   "metadata": {
    "collapsed": true
   },
   "outputs": [],
   "source": [
    "#save data to csv\n",
    "writetable(\"output_df_iris.csv\", df_iris_sample) #Export to csv"
   ]
  },
  {
   "cell_type": "code",
   "execution_count": 143,
   "metadata": {
    "collapsed": false
   },
   "outputs": [
    {
     "name": "stderr",
     "output_type": "stream",
     "text": [
      "WARNING: imported binding for df overwritten in module Main\n"
     ]
    },
    {
     "data": {
      "text/html": [
       "<table class=\"data-frame\"><thead><tr><th></th><th>A</th><th>B</th></tr></thead><tbody><tr><th>1</th><td>1</td><td>2</td></tr><tr><th>2</th><td>2</td><td>4</td></tr><tr><th>3</th><td>3</td><td>6</td></tr><tr><th>4</th><td>4</td><td>8</td></tr><tr><th>5</th><td>5</td><td>10</td></tr><tr><th>6</th><td>6</td><td>12</td></tr><tr><th>7</th><td>7</td><td>14</td></tr><tr><th>8</th><td>8</td><td>16</td></tr><tr><th>9</th><td>9</td><td>18</td></tr><tr><th>10</th><td>10</td><td>20</td></tr></tbody></table>"
      ],
      "text/plain": [
       "10×2 DataFrames.DataFrame\n",
       "│ Row │ A  │ B  │\n",
       "├─────┼────┼────┤\n",
       "│ 1   │ 1  │ 2  │\n",
       "│ 2   │ 2  │ 4  │\n",
       "│ 3   │ 3  │ 6  │\n",
       "│ 4   │ 4  │ 8  │\n",
       "│ 5   │ 5  │ 10 │\n",
       "│ 6   │ 6  │ 12 │\n",
       "│ 7   │ 7  │ 14 │\n",
       "│ 8   │ 8  │ 16 │\n",
       "│ 9   │ 9  │ 18 │\n",
       "│ 10  │ 10 │ 20 │"
      ]
     },
     "execution_count": 143,
     "metadata": {},
     "output_type": "execute_result"
    }
   ],
   "source": [
    "###Create\n",
    "df = DataFrame(A = 1:10, B = 2:2:20)\n",
    "df"
   ]
  },
  {
   "cell_type": "markdown",
   "metadata": {},
   "source": [
    "## 7. Statistics"
   ]
  },
  {
   "cell_type": "code",
   "execution_count": 145,
   "metadata": {
    "collapsed": false
   },
   "outputs": [
    {
     "name": "stdout",
     "output_type": "stream",
     "text": [
      "make\n",
      "Length  74\n",
      "Type    String\n",
      "NAs     0\n",
      "NA%     0.0%\n",
      "Unique  74\n",
      "\n",
      "price\n",
      "Min      3291.0\n",
      "1st Qu.  4220.25\n",
      "Median   5006.5\n",
      "Mean     6165.256756756757\n",
      "3rd Qu.  6332.25\n",
      "Max      15906.0\n",
      "NAs      0\n",
      "NA%      0.0%\n",
      "\n",
      "mpg\n",
      "Min      12.0\n",
      "1st Qu.  18.0\n",
      "Median   20.0\n",
      "Mean     21.2972972972973\n",
      "3rd Qu.  24.75\n",
      "Max      41.0\n",
      "NAs      0\n",
      "NA%      0.0%\n",
      "\n",
      "rep78\n",
      "Min      1.0\n",
      "1st Qu.  3.0\n",
      "Median   3.0\n",
      "Mean     3.4057971014492754\n",
      "3rd Qu.  4.0\n",
      "Max      5.0\n",
      "NAs      5\n",
      "NA%      6.76%\n",
      "\n",
      "headroom\n",
      "Min      1.5\n",
      "1st Qu.  2.5\n",
      "Median   3.0\n",
      "Mean     2.9932432432432434\n",
      "3rd Qu.  3.5\n",
      "Max      5.0\n",
      "NAs      0\n",
      "NA%      0.0%\n",
      "\n",
      "trunk\n",
      "Min      5.0\n",
      "1st Qu.  10.25\n",
      "Median   14.0\n",
      "Mean     13.756756756756756\n",
      "3rd Qu.  16.75\n",
      "Max      23.0\n",
      "NAs      0\n",
      "NA%      0.0%\n",
      "\n",
      "weight\n",
      "Min      1760.0\n",
      "1st Qu.  2250.0\n",
      "Median   3190.0\n",
      "Mean     3019.4594594594596\n",
      "3rd Qu.  3600.0\n",
      "Max      4840.0\n",
      "NAs      0\n",
      "NA%      0.0%\n",
      "\n",
      "length\n",
      "Min      142.0\n",
      "1st Qu.  170.0\n",
      "Median   192.5\n",
      "Mean     187.93243243243242\n",
      "3rd Qu.  203.75\n",
      "Max      233.0\n",
      "NAs      0\n",
      "NA%      0.0%\n",
      "\n",
      "turn\n",
      "Min      31.0\n",
      "1st Qu.  36.0\n",
      "Median   40.0\n",
      "Mean     39.648648648648646\n",
      "3rd Qu.  43.0\n",
      "Max      51.0\n",
      "NAs      0\n",
      "NA%      0.0%\n",
      "\n",
      "displacement\n",
      "Min      79.0\n",
      "1st Qu.  119.0\n",
      "Median   196.0\n",
      "Mean     197.2972972972973\n",
      "3rd Qu.  245.25\n",
      "Max      425.0\n",
      "NAs      0\n",
      "NA%      0.0%\n",
      "\n",
      "gear_ratio\n",
      "Min      2.1900001\n",
      "1st Qu.  2.73\n",
      "Median   2.9550000499999998\n",
      "Mean     3.014864866216216\n",
      "3rd Qu.  3.352499925\n",
      "Max      3.8900001\n",
      "NAs      0\n",
      "NA%      0.0%\n",
      "\n",
      "foreign\n",
      "Length  74\n",
      "Type    String\n",
      "NAs     0\n",
      "NA%     0.0%\n",
      "Unique  2\n",
      "\n"
     ]
    }
   ],
   "source": [
    "describe(car)"
   ]
  },
  {
   "cell_type": "code",
   "execution_count": 147,
   "metadata": {
    "collapsed": false
   },
   "outputs": [
    {
     "data": {
      "text/plain": [
       ":make"
      ]
     },
     "execution_count": 147,
     "metadata": {},
     "output_type": "execute_result"
    }
   ],
   "source": [
    "names(car)"
   ]
  },
  {
   "cell_type": "markdown",
   "metadata": {
    "deletable": true,
    "editable": true
   },
   "source": [
    "__Subset dataset and tidyverse in Julia__"
   ]
  },
  {
   "cell_type": "code",
   "execution_count": 158,
   "metadata": {
    "collapsed": false
   },
   "outputs": [
    {
     "data": {
      "text/html": [
       "<table class=\"data-frame\"><thead><tr><th></th><th>price</th><th>mpg</th></tr></thead><tbody><tr><th>1</th><td>4099</td><td>22</td></tr><tr><th>2</th><td>3799</td><td>22</td></tr><tr><th>3</th><td>7827</td><td>15</td></tr></tbody></table>"
      ],
      "text/plain": [
       "3×2 DataFrames.DataFrame\n",
       "│ Row │ price │ mpg │\n",
       "├─────┼───────┼─────┤\n",
       "│ 1   │ 4099  │ 22  │\n",
       "│ 2   │ 3799  │ 22  │\n",
       "│ 3   │ 7827  │ 15  │"
      ]
     },
     "execution_count": 158,
     "metadata": {},
     "output_type": "execute_result"
    }
   ],
   "source": [
    "car[1,:]\n",
    "car[1:5,:]\n",
    "car[1:5,1:2]\n",
    "car[2] #column 2\n",
    "car[:price] #name of variable\n",
    "car[2] == car[:price]\n",
    "car[[1,3,5], [:price, :mpg]]"
   ]
  },
  {
   "cell_type": "code",
   "execution_count": 160,
   "metadata": {
    "collapsed": false
   },
   "outputs": [
    {
     "data": {
      "text/html": [
       "<table class=\"data-frame\"><thead><tr><th></th><th>make</th><th>price</th><th>mpg</th><th>rep78</th><th>headroom</th><th>trunk</th><th>weight</th><th>length</th><th>turn</th><th>displacement</th><th>gear_ratio</th><th>foreign</th></tr></thead><tbody><tr><th>1</th><td>Cad. Seville</td><td>15906</td><td>21</td><td>3</td><td>3.0</td><td>13</td><td>4290</td><td>204</td><td>45</td><td>350</td><td>2.24</td><td>Domestic</td></tr></tbody></table>"
      ],
      "text/plain": [
       "1×12 DataFrames.DataFrame\n",
       "│ Row │ make           │ price │ mpg │ rep78 │ headroom │ trunk │ weight │\n",
       "├─────┼────────────────┼───────┼─────┼───────┼──────────┼───────┼────────┤\n",
       "│ 1   │ \"Cad. Seville\" │ 15906 │ 21  │ 3     │ 3.0      │ 13    │ 4290   │\n",
       "\n",
       "│ Row │ length │ turn │ displacement │ gear_ratio │ foreign    │\n",
       "├─────┼────────┼──────┼──────────────┼────────────┼────────────┤\n",
       "│ 1   │ 204    │ 45   │ 350          │ 2.24       │ \"Domestic\" │"
      ]
     },
     "execution_count": 160,
     "metadata": {},
     "output_type": "execute_result"
    }
   ],
   "source": [
    "#Filter: price>5000\n",
    "car[car[:price] .> 5000, :]\n",
    "car[(car[:price] .> 15000) & (car[:mpg] .>= 18), :] #2 conditions"
   ]
  },
  {
   "cell_type": "code",
   "execution_count": null,
   "metadata": {
    "collapsed": true
   },
   "outputs": [],
   "source": [
    "#Sort DataFrames: with !, it changes the original file\n",
    "sort!(car, cols = [:price])\n",
    "sort!(car, cols = [:price], rev = true)\n",
    "sort!(car, cols = [:price, :mpg])"
   ]
  },
  {
   "cell_type": "code",
   "execution_count": 161,
   "metadata": {
    "collapsed": false
   },
   "outputs": [
    {
     "data": {
      "text/plain": [
       "74-element DataArrays.DataArray{Any,1}:\n",
       "  true\n",
       "  true\n",
       " false\n",
       "  true\n",
       "  true\n",
       "  true\n",
       " false\n",
       "  true\n",
       "  true\n",
       "  true\n",
       "  true\n",
       "  true\n",
       "  true\n",
       "     ⋮\n",
       " false\n",
       "  true\n",
       " false\n",
       " false\n",
       " false\n",
       " false\n",
       " false\n",
       " false\n",
       " false\n",
       " false\n",
       " false\n",
       "  true"
      ]
     },
     "execution_count": 161,
     "metadata": {},
     "output_type": "execute_result"
    }
   ],
   "source": [
    "#By function: to tabulate\n",
    "by(car, :rep78, size)\n",
    "by(car, [:rep78], df -> mean(df[:price]))\n",
    "\n",
    "\n",
    "#Add, delete, rename\n",
    "  #A stupid mutate\n",
    "car[:lw] = map((x,y) -> x/y, car[:length], car[:weight])\n",
    "car[:mass] = map((x,y) -> x*y, car[:length], car[:weight])\n",
    "car[:big_car] = map(x -> x>500000, car[:mass])"
   ]
  },
  {
   "cell_type": "code",
   "execution_count": null,
   "metadata": {
    "collapsed": true
   },
   "outputs": [],
   "source": [
    "#rename\n",
    "rename!(car, old_name, new_name)\n",
    "\n",
    "#delete!\n",
    "delete!(car, :lw)\n",
    "\n",
    "#delete rows\n",
    "temp = deepcopy(car)\n",
    "deleterows!(temp, 3:5)"
   ]
  },
  {
   "cell_type": "code",
   "execution_count": null,
   "metadata": {
    "collapsed": true
   },
   "outputs": [],
   "source": [
    "#Merge DataFrames\n",
    "full_Df = join(DfAccidents,DfVehicles,on = :_Accident_Index)\n",
    "full_Df = join(DfAccidents,DfVehicles,on = :_Accident_Index, kind= :left)\n",
    "full_Df = join(DfAccidents,DfVehicles,on = :_Accident_Index, kind= :right)\n",
    "full_Df = join(DfAccidents,DfVehicles,on = :_Accident_Index, kind= :inner)\n",
    "full_Df = join(DfAccidents,DfVehicles,on = :_Accident_Index, kind= :outer)\n",
    "full_Df = join(DfAccidents,DfVehicles,on = :_Accident_Index, kind= :semi)\n",
    "full_Df = join(DfAccidents,DfVehicles,on = :_Accident_Index, kind= :anti)"
   ]
  },
  {
   "cell_type": "markdown",
   "metadata": {},
   "source": [
    "__groupby + apply + combine__"
   ]
  },
  {
   "cell_type": "code",
   "execution_count": 171,
   "metadata": {
    "collapsed": false
   },
   "outputs": [
    {
     "name": "stdout",
     "output_type": "stream",
     "text": [
      "6430.4\n",
      "4564.5\n",
      "5967.625\n",
      "6429.233333333334\n",
      "6071.5\n",
      "5913.0\n"
     ]
    }
   ],
   "source": [
    "##Aggregate data, split-apply-combine method\n",
    "  ##Method 1\n",
    "by(car, :rep78) do df\n",
    "  DataFrame(m = mean(df[:price]), sd = std(df[:price]))\n",
    "end\n",
    "\n",
    "\n",
    "  ##Method 2\n",
    "aggregate(car[2:4], :rep78, [sum, mean])\n",
    "\n",
    "  ##Method 3\n",
    "for subdf in groupby(car, :rep78)\n",
    "  println(mean(subdf[:price]))\n",
    "end"
   ]
  },
  {
   "cell_type": "code",
   "execution_count": 182,
   "metadata": {
    "collapsed": false
   },
   "outputs": [
    {
     "data": {
      "text/html": [
       "<table class=\"data-frame\"><thead><tr><th></th><th>make</th><th>price</th><th>mpg</th><th>rep78</th><th>headroom</th><th>trunk</th><th>weight</th><th>length</th><th>turn</th><th>displacement</th><th>gear_ratio</th><th>foreign</th><th>lw</th><th>mass</th><th>big_car</th></tr></thead><tbody><tr><th>1</th><td>AMC Concord</td><td>4099</td><td>22</td><td>3</td><td>2.5</td><td>11</td><td>2930</td><td>186</td><td>40</td><td>121</td><td>3.5799999</td><td>Domestic</td><td>0.06348122866894199</td><td>544980</td><td>true</td></tr><tr><th>2</th><td>AMC Pacer</td><td>4749</td><td>17</td><td>3</td><td>3.0</td><td>11</td><td>3350</td><td>173</td><td>40</td><td>258</td><td>2.53</td><td>Domestic</td><td>0.05164179104477612</td><td>579550</td><td>true</td></tr><tr><th>3</th><td>AMC Spirit</td><td>3799</td><td>22</td><td>NA</td><td>3.0</td><td>12</td><td>2640</td><td>168</td><td>35</td><td>121</td><td>3.0799999</td><td>Domestic</td><td>0.06363636363636363</td><td>443520</td><td>false</td></tr><tr><th>4</th><td>Buick Century</td><td>4816</td><td>20</td><td>3</td><td>4.5</td><td>16</td><td>3250</td><td>196</td><td>40</td><td>196</td><td>2.9300001</td><td>Domestic</td><td>0.060307692307692305</td><td>637000</td><td>true</td></tr><tr><th>5</th><td>Buick Electra</td><td>7827</td><td>15</td><td>4</td><td>4.0</td><td>20</td><td>4080</td><td>222</td><td>43</td><td>350</td><td>2.4100001</td><td>Domestic</td><td>0.054411764705882354</td><td>905760</td><td>true</td></tr><tr><th>6</th><td>Buick LeSabre</td><td>5788</td><td>18</td><td>3</td><td>4.0</td><td>21</td><td>3670</td><td>218</td><td>43</td><td>231</td><td>2.73</td><td>Domestic</td><td>0.05940054495912807</td><td>800060</td><td>true</td></tr></tbody></table>"
      ],
      "text/plain": [
       "6×15 DataFrames.DataFrame\n",
       "│ Row │ make            │ price │ mpg │ rep78 │ headroom │ trunk │ weight │\n",
       "├─────┼─────────────────┼───────┼─────┼───────┼──────────┼───────┼────────┤\n",
       "│ 1   │ \"AMC Concord\"   │ 4099  │ 22  │ 3     │ 2.5      │ 11    │ 2930   │\n",
       "│ 2   │ \"AMC Pacer\"     │ 4749  │ 17  │ 3     │ 3.0      │ 11    │ 3350   │\n",
       "│ 3   │ \"AMC Spirit\"    │ 3799  │ 22  │ NA    │ 3.0      │ 12    │ 2640   │\n",
       "│ 4   │ \"Buick Century\" │ 4816  │ 20  │ 3     │ 4.5      │ 16    │ 3250   │\n",
       "│ 5   │ \"Buick Electra\" │ 7827  │ 15  │ 4     │ 4.0      │ 20    │ 4080   │\n",
       "│ 6   │ \"Buick LeSabre\" │ 5788  │ 18  │ 3     │ 4.0      │ 21    │ 3670   │\n",
       "\n",
       "│ Row │ length │ turn │ displacement │ gear_ratio │ foreign    │ lw        │\n",
       "├─────┼────────┼──────┼──────────────┼────────────┼────────────┼───────────┤\n",
       "│ 1   │ 186    │ 40   │ 121          │ 3.58       │ \"Domestic\" │ 0.0634812 │\n",
       "│ 2   │ 173    │ 40   │ 258          │ 2.53       │ \"Domestic\" │ 0.0516418 │\n",
       "│ 3   │ 168    │ 35   │ 121          │ 3.08       │ \"Domestic\" │ 0.0636364 │\n",
       "│ 4   │ 196    │ 40   │ 196          │ 2.93       │ \"Domestic\" │ 0.0603077 │\n",
       "│ 5   │ 222    │ 43   │ 350          │ 2.41       │ \"Domestic\" │ 0.0544118 │\n",
       "│ 6   │ 218    │ 43   │ 231          │ 2.73       │ \"Domestic\" │ 0.0594005 │\n",
       "\n",
       "│ Row │ mass   │ big_car │\n",
       "├─────┼────────┼─────────┤\n",
       "│ 1   │ 544980 │ true    │\n",
       "│ 2   │ 579550 │ true    │\n",
       "│ 3   │ 443520 │ false   │\n",
       "│ 4   │ 637000 │ true    │\n",
       "│ 5   │ 905760 │ true    │\n",
       "│ 6   │ 800060 │ true    │"
      ]
     },
     "execution_count": 182,
     "metadata": {},
     "output_type": "execute_result"
    }
   ],
   "source": [
    "head(car)"
   ]
  },
  {
   "cell_type": "code",
   "execution_count": 179,
   "metadata": {
    "collapsed": false
   },
   "outputs": [
    {
     "data": {
      "text/html": [
       "<table class=\"data-frame\"><thead><tr><th></th><th>rep78</th><th>price_sum</th><th>price_mean</th><th>mpg_sum</th><th>mpg_mean</th></tr></thead><tbody><tr><th>1</th><td>NA</td><td>32152</td><td>6430.4</td><td>107</td><td>21.4</td></tr><tr><th>2</th><td>1</td><td>9129</td><td>4564.5</td><td>42</td><td>21.0</td></tr><tr><th>3</th><td>2</td><td>47741</td><td>5967.625</td><td>153</td><td>19.125</td></tr><tr><th>4</th><td>3</td><td>192877</td><td>6429.233333333334</td><td>583</td><td>19.433333333333334</td></tr><tr><th>5</th><td>4</td><td>109287</td><td>6071.5</td><td>390</td><td>21.666666666666668</td></tr><tr><th>6</th><td>5</td><td>65043</td><td>5913.0</td><td>301</td><td>27.363636363636363</td></tr></tbody></table>"
      ],
      "text/plain": [
       "6×5 DataFrames.DataFrame\n",
       "│ Row │ rep78 │ price_sum │ price_mean │ mpg_sum │ mpg_mean │\n",
       "├─────┼───────┼───────────┼────────────┼─────────┼──────────┤\n",
       "│ 1   │ NA    │ 32152     │ 6430.4     │ 107     │ 21.4     │\n",
       "│ 2   │ 1     │ 9129      │ 4564.5     │ 42      │ 21.0     │\n",
       "│ 3   │ 2     │ 47741     │ 5967.63    │ 153     │ 19.125   │\n",
       "│ 4   │ 3     │ 192877    │ 6429.23    │ 583     │ 19.4333  │\n",
       "│ 5   │ 4     │ 109287    │ 6071.5     │ 390     │ 21.6667  │\n",
       "│ 6   │ 5     │ 65043     │ 5913.0     │ 301     │ 27.3636  │"
      ]
     },
     "execution_count": 179,
     "metadata": {},
     "output_type": "execute_result"
    }
   ],
   "source": [
    "aggregate(car[2:4], :rep78, [sum, mean])"
   ]
  },
  {
   "cell_type": "code",
   "execution_count": 184,
   "metadata": {
    "collapsed": false
   },
   "outputs": [
    {
     "name": "stdout",
     "output_type": "stream",
     "text": [
      "6430.421.4\n",
      "4564.521.0\n",
      "5967.62519.125\n",
      "6429.23333333333419.433333333333334\n",
      "6071.521.666666666666668\n",
      "5913.027.363636363636363\n",
      "  0.036045 seconds (18.61 k allocations: 804.702 KB)\n"
     ]
    },
    {
     "data": {
      "text/html": [
       "<table class=\"data-frame\"><thead><tr><th></th><th>rep78</th><th>x1</th></tr></thead><tbody><tr><th>1</th><td>NA</td><td>nothing</td></tr><tr><th>2</th><td>1</td><td>nothing</td></tr><tr><th>3</th><td>2</td><td>nothing</td></tr><tr><th>4</th><td>3</td><td>nothing</td></tr><tr><th>5</th><td>4</td><td>nothing</td></tr><tr><th>6</th><td>5</td><td>nothing</td></tr></tbody></table>"
      ],
      "text/plain": [
       "6×2 DataFrames.DataFrame\n",
       "│ Row │ rep78 │ x1      │\n",
       "├─────┼───────┼─────────┤\n",
       "│ 1   │ NA    │ nothing │\n",
       "│ 2   │ 1     │ nothing │\n",
       "│ 3   │ 2     │ nothing │\n",
       "│ 4   │ 3     │ nothing │\n",
       "│ 5   │ 4     │ nothing │\n",
       "│ 6   │ 5     │ nothing │"
      ]
     },
     "execution_count": 184,
     "metadata": {},
     "output_type": "execute_result"
    }
   ],
   "source": [
    "###Compare speed\n",
    "@time by(car, :rep78) do df\n",
    "    println(mean(df[:price]))\n",
    "  end"
   ]
  },
  {
   "cell_type": "code",
   "execution_count": 189,
   "metadata": {
    "collapsed": false
   },
   "outputs": [
    {
     "name": "stdout",
     "output_type": "stream",
     "text": [
      "  0.000487 seconds (701 allocations: 49.063 KB)\n"
     ]
    },
    {
     "data": {
      "text/html": [
       "<table class=\"data-frame\"><thead><tr><th></th><th>rep78</th><th>price_mean</th><th>mpg_mean</th></tr></thead><tbody><tr><th>1</th><td>NA</td><td>6430.4</td><td>21.4</td></tr><tr><th>2</th><td>1</td><td>4564.5</td><td>21.0</td></tr><tr><th>3</th><td>2</td><td>5967.625</td><td>19.125</td></tr><tr><th>4</th><td>3</td><td>6429.233333333334</td><td>19.433333333333334</td></tr><tr><th>5</th><td>4</td><td>6071.5</td><td>21.666666666666668</td></tr><tr><th>6</th><td>5</td><td>5913.0</td><td>27.363636363636363</td></tr></tbody></table>"
      ],
      "text/plain": [
       "6×3 DataFrames.DataFrame\n",
       "│ Row │ rep78 │ price_mean │ mpg_mean │\n",
       "├─────┼───────┼────────────┼──────────┤\n",
       "│ 1   │ NA    │ 6430.4     │ 21.4     │\n",
       "│ 2   │ 1     │ 4564.5     │ 21.0     │\n",
       "│ 3   │ 2     │ 5967.63    │ 19.125   │\n",
       "│ 4   │ 3     │ 6429.23    │ 19.4333  │\n",
       "│ 5   │ 4     │ 6071.5     │ 21.6667  │\n",
       "│ 6   │ 5     │ 5913.0     │ 27.3636  │"
      ]
     },
     "execution_count": 189,
     "metadata": {},
     "output_type": "execute_result"
    }
   ],
   "source": [
    "@time aggregate(car[2:4], :rep78, mean)"
   ]
  },
  {
   "cell_type": "code",
   "execution_count": 190,
   "metadata": {
    "collapsed": false
   },
   "outputs": [
    {
     "name": "stdout",
     "output_type": "stream",
     "text": [
      "6430.4\n",
      "4564.5\n",
      "5967.625\n",
      "6429.233333333334\n",
      "6071.5\n",
      "5913.0\n",
      "  0.003160 seconds (423 allocations: 23.250 KB)\n"
     ]
    }
   ],
   "source": [
    "@time for subdf in groupby(car, :rep78)\n",
    "    println(mean(subdf[:price]))\n",
    "  end"
   ]
  },
  {
   "cell_type": "markdown",
   "metadata": {},
   "source": [
    "In conclusion, the `aggregate` is the fastest among three methods."
   ]
  },
  {
   "cell_type": "code",
   "execution_count": null,
   "metadata": {
    "collapsed": true
   },
   "outputs": [],
   "source": [
    "  ##Method 4: stack/melt and unstack\n",
    "  ###Step 1: stack/melt data: both are same, should USE MELT\n",
    "temp = car[dropna(car[:rep78]), 2:4]\n",
    "temp[:id] = 1:size(temp, 1)\n",
    "\n",
    "d = melt(temp, :rep78)\n",
    "d2 = stack(temp, [:price, :mpg], :rep78)\n",
    "melt(temp, :rep78) == stack(temp, [:price, :mpg], :rep78)\n",
    "\n",
    "  ###Step 2: from long-data to wide-data\n",
    "longdf =  melt(temp, :id)\n",
    "unstack(longdf, :id, :variable, :value)\n",
    "unstack(d, :variable, :value)"
   ]
  },
  {
   "cell_type": "code",
   "execution_count": null,
   "metadata": {
    "collapsed": true
   },
   "outputs": [],
   "source": []
  },
  {
   "cell_type": "code",
   "execution_count": null,
   "metadata": {
    "collapsed": true
   },
   "outputs": [],
   "source": []
  },
  {
   "cell_type": "markdown",
   "metadata": {},
   "source": [
    "### 7.1 One variable Stats"
   ]
  },
  {
   "cell_type": "code",
   "execution_count": 149,
   "metadata": {
    "collapsed": false
   },
   "outputs": [
    {
     "data": {
      "text/plain": [
       "5656.906729539474"
      ]
     },
     "execution_count": 149,
     "metadata": {},
     "output_type": "execute_result"
    }
   ],
   "source": [
    "geomean(car[:,2])\n"
   ]
  },
  {
   "cell_type": "code",
   "execution_count": 150,
   "metadata": {
    "collapsed": false
   },
   "outputs": [
    {
     "ename": "LoadError",
     "evalue": "MethodError: objects of type Int64 are not callable",
     "output_type": "error",
     "traceback": [
      "MethodError: objects of type Int64 are not callable",
      ""
     ]
    }
   ],
   "source": [
    "mean(car[:,2])\n",
    "var(car[:,2])\n",
    "std(car[:,2])\n",
    "mean_and_std(car[:,2])\n",
    "skewness(car[:,2])\n",
    "kurtosis(car[:,2])\n",
    "moment(car[:,2], 3)\n",
    "quantile(car[:, 2]) #quantile at 0%, 25, 50, 75, 100%\n",
    "summarystats(car[:, 2])"
   ]
  },
  {
   "cell_type": "code",
   "execution_count": 151,
   "metadata": {
    "collapsed": false
   },
   "outputs": [
    {
     "data": {
      "text/plain": [
       "Summary Stats:\n",
       "Mean:         6165.256757\n",
       "Minimum:      3291.000000\n",
       "1st Quartile: 4220.250000\n",
       "Median:       5006.500000\n",
       "3rd Quartile: 6332.250000\n",
       "Maximum:      15906.000000\n"
      ]
     },
     "execution_count": 151,
     "metadata": {},
     "output_type": "execute_result"
    }
   ],
   "source": [
    "summarystats(car[:, 2])"
   ]
  },
  {
   "cell_type": "code",
   "execution_count": 152,
   "metadata": {
    "collapsed": false
   },
   "outputs": [
    {
     "data": {
      "text/plain": [
       "6165.256756756757"
      ]
     },
     "execution_count": 152,
     "metadata": {},
     "output_type": "execute_result"
    }
   ],
   "source": [
    "mean(car[:price])"
   ]
  },
  {
   "cell_type": "code",
   "execution_count": null,
   "metadata": {
    "collapsed": true
   },
   "outputs": [],
   "source": []
  },
  {
   "cell_type": "code",
   "execution_count": null,
   "metadata": {
    "collapsed": true
   },
   "outputs": [],
   "source": []
  },
  {
   "cell_type": "code",
   "execution_count": null,
   "metadata": {
    "collapsed": true
   },
   "outputs": [],
   "source": []
  }
 ],
 "metadata": {
  "celltoolbar": "Raw Cell Format",
  "kernelspec": {
   "display_name": "Julia 0.5.1",
   "language": "julia",
   "name": "julia-0.5"
  },
  "language_info": {
   "file_extension": ".jl",
   "mimetype": "application/julia",
   "name": "julia",
   "version": "0.5.1"
  }
 },
 "nbformat": 4,
 "nbformat_minor": 1
}
